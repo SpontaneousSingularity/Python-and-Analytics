{
 "cells": [
  {
   "cell_type": "markdown",
   "metadata": {},
   "source": [
    "<h1 style = \"color:green;text-align:center\"><b><u>Trees and Graphs</u></b></h1>"
   ]
  },
  {
   "cell_type": "code",
   "execution_count": 1,
   "metadata": {},
   "outputs": [],
   "source": [
    "import csv"
   ]
  },
  {
   "cell_type": "code",
   "execution_count": null,
   "metadata": {},
   "outputs": [],
   "source": [
    "def calculate_grade_and_result(percentage):\n",
    "    if percentage >= 90:\n",
    "        return 'A+', 'Pass'\n",
    "    elif percentage >= 75:\n",
    "        return 'A', 'Pass'\n",
    "    elif percentage >= 60:\n",
    "        return 'B', 'Pass'\n",
    "    elif percentage >= 50:\n",
    "        return 'C', 'Pass'\n",
    "    else:\n",
    "        return 'F', 'Fail'\n"
   ]
  },
  {
   "cell_type": "code",
   "execution_count": null,
   "metadata": {},
   "outputs": [],
   "source": [
    "def add_student_data():\n",
    "    student_id = input(\"Enter Student ID: \")\n",
    "    branch = input(\"Enter Branch Name: \")\n",
    "    p1 = input(\"enter marks for p1\")\n",
    "    p2 = input(\"enter marks for p2\")\n",
    "    p3 = input(\"enter marks for p3\")\n",
    "    total_marks = sum(marks)\n",
    "    max_marks = 300\n",
    "    percentage = (total_marks / max_marks) * 100\n",
    "\n",
    "    with open('huh.csv', mode = 'a')\n",
    "\n",
    "    writer.writerow(['Student ID', 'Branch', 'Marks', 'Total Marks', 'Percentage', 'Grade', 'Result'])"
   ]
  },
  {
   "cell_type": "code",
   "execution_count": null,
   "metadata": {},
   "outputs": [],
   "source": [
    "while True:\n",
    "    "
   ]
  },
  {
   "cell_type": "code",
   "execution_count": 6,
   "metadata": {},
   "outputs": [
    {
     "name": "stdout",
     "output_type": "stream",
     "text": [
      " abc bc\n"
     ]
    },
    {
     "name": "stdout",
     "output_type": "stream",
     "text": [
      "c\n"
     ]
    }
   ],
   "source": [
    "data = input().strip()\n",
    "element = None\n",
    "for i in range(len(data)):\n",
    "    if data[i] == ' ':\n",
    "        element = data[i-1]\n",
    "    \n",
    "if element == None :\n",
    "    print(\"NA\")\n",
    "else:\n",
    "    print(element)"
   ]
  },
  {
   "cell_type": "code",
   "execution_count": null,
   "metadata": {},
   "outputs": [],
   "source": [
    "name = 'abcdefjgerjab cdfijger'\n",
    "\n",
    "def stringvarifye(name):\n",
    "    for i in range(len(name)):\n",
    "        if name[i] == ' '\n",
    "            return name[i-1]\n",
    "result = stringvarifye(name)\n",
    "\n",
    "if result:\n",
    "    print(result)\n",
    "else:\n",
    "    print('NA')"
   ]
  },
  {
   "cell_type": "code",
   "execution_count": 12,
   "metadata": {},
   "outputs": [
    {
     "name": "stdout",
     "output_type": "stream",
     "text": [
      "\n",
      "--- Binary Tree Traversal Menu ---\n",
      "1. Display Tree Structure\n",
      "2. Pre-order Traversal\n",
      "3. In-order Traversal\n",
      "4. Post-order Traversal\n",
      "5. Exit\n"
     ]
    },
    {
     "name": "stdout",
     "output_type": "stream",
     "text": [
      "Enter your choice (1-5):  2\n"
     ]
    },
    {
     "name": "stdout",
     "output_type": "stream",
     "text": [
      "\n",
      "Pre-order Traversal:\n",
      "Drinks\n",
      "Hot\n",
      "tea\n",
      "coffee\n",
      "Cold\n",
      "Alcoholic\n",
      "Non-Alcoholic\n",
      "\n",
      "--- Binary Tree Traversal Menu ---\n",
      "1. Display Tree Structure\n",
      "2. Pre-order Traversal\n",
      "3. In-order Traversal\n",
      "4. Post-order Traversal\n",
      "5. Exit\n"
     ]
    },
    {
     "name": "stdout",
     "output_type": "stream",
     "text": [
      "Enter your choice (1-5):  1\n"
     ]
    },
    {
     "name": "stdout",
     "output_type": "stream",
     "text": [
      "\n",
      "Tree Structure:\n",
      "Drinks\n",
      " Hot\n",
      "  tea\n",
      "  coffee\n",
      " Cold\n",
      "  Alcoholic\n",
      "  Non-Alcoholic\n",
      "\n",
      "\n",
      "--- Binary Tree Traversal Menu ---\n",
      "1. Display Tree Structure\n",
      "2. Pre-order Traversal\n",
      "3. In-order Traversal\n",
      "4. Post-order Traversal\n",
      "5. Exit\n"
     ]
    },
    {
     "name": "stdout",
     "output_type": "stream",
     "text": [
      "Enter your choice (1-5):  5\n"
     ]
    },
    {
     "name": "stdout",
     "output_type": "stream",
     "text": [
      "Exiting the program. Goodbye!\n"
     ]
    }
   ],
   "source": [
    "class Binary_tree:\n",
    "    def __init__(self, data):\n",
    "        self.data = data\n",
    "        self.children = []\n",
    "\n",
    "    def __str__(self, level=0):\n",
    "        ret = ' ' * level + str(self.data) + \"\\n\"\n",
    "        for child in self.children:\n",
    "            ret += child.__str__(level + 1)\n",
    "        return ret\n",
    "\n",
    "    def add_child(self, treeNode):\n",
    "        self.children.append(treeNode)\n",
    "\n",
    "# Traversals\n",
    "def preorder_traversal(node):\n",
    "    if node is not None:\n",
    "        print(node.data)  # Visit the node\n",
    "        for child in node.children:  # Visit all children\n",
    "            preorder_traversal(child)\n",
    "\n",
    "def inorder_traversal(node):\n",
    "    if node is not None:\n",
    "        if node.children:\n",
    "            inorder_traversal(node.children[0])  # Traverse left child\n",
    "        print(node.data)  \n",
    "        for child in node.children[1:]:  # Traverse other children\n",
    "            inorder_traversal(child)\n",
    "\n",
    "def postorder_traversal(node):\n",
    "    if node is not None:\n",
    "        for child in node.children:  # Traverse all children\n",
    "            postorder_traversal(child)\n",
    "        print(node.data)  # Visit the node \n",
    "\n",
    "\n",
    "# Construct the tree\n",
    "def build_tree():\n",
    "    node1 = Binary_tree(\"Drinks\")\n",
    "    node2 = Binary_tree(\"Hot\")\n",
    "    node3 = Binary_tree(\"Cold\")\n",
    "    node4 = Binary_tree(\"tea\")\n",
    "    node5 = Binary_tree(\"coffee\")\n",
    "    node6 = Binary_tree(\"Alcoholic\")\n",
    "    node7 = Binary_tree(\"Non-Alcoholic\")\n",
    "\n",
    "    node1.add_child(node2)\n",
    "    node1.add_child(node3)\n",
    "    node2.add_child(node4)\n",
    "    node2.add_child(node5)\n",
    "    node3.add_child(node6)\n",
    "    node3.add_child(node7)\n",
    "    \n",
    "    return node1\n",
    "\n",
    "# Menu-driven program\n",
    "def menu():\n",
    "    root = build_tree()\n",
    "    \n",
    "    while True:\n",
    "        print(\"\\n--- Binary Tree Traversal Menu ---\")\n",
    "        print(\"1. Display Tree Structure\")\n",
    "        print(\"2. Pre-order Traversal\")\n",
    "        print(\"3. In-order Traversal\")\n",
    "        print(\"4. Post-order Traversal\")\n",
    "        print(\"5. Exit\")\n",
    "        \n",
    "        choice = input(\"Enter your choice (1-5): \")\n",
    "        \n",
    "        if choice == '1':\n",
    "            print(\"\\nTree Structure:\")\n",
    "            print(root)\n",
    "\n",
    "        elif choice == '2':\n",
    "            print(\"\\nPre-order Traversal:\")\n",
    "            preorder_traversal(root)\n",
    "\n",
    "        elif choice == '3':\n",
    "            print(\"\\nIn-order Traversal:\")\n",
    "            inorder_traversal(root)\n",
    "\n",
    "        elif choice == '4':\n",
    "            print(\"\\nPost-order Traversal:\")\n",
    "            postorder_traversal(root)\n",
    "\n",
    "        elif choice == '5':\n",
    "            print(\"Exiting the program. Goodbye!\")\n",
    "            break\n",
    "\n",
    "        else:\n",
    "            print(\"Invalid choice. Please choose between 1 and 5.\")\n",
    "\n",
    "menu()\n"
   ]
  },
  {
   "cell_type": "code",
   "execution_count": null,
   "metadata": {},
   "outputs": [
    {
     "name": "stdout",
     "output_type": "stream",
     "text": [
      "Tea\n",
      "hot\n",
      "coffe\n",
      "drinks\n",
      "cold\n",
      "inorder is done\n",
      "Tea\n",
      "coffe\n",
      "hot\n",
      "cold\n",
      "drinks\n",
      "postorder is done\n",
      "drinks\n",
      "hot\n",
      "Tea\n",
      "coffe\n",
      "cold\n",
      "preorder is done\n"
     ]
    }
   ],
   "source": [
    "class TreeNode:\n",
    "    def __init__(self,data):\n",
    "        self.data = data\n",
    "        self.leftchild = None\n",
    "        self.rightchild = None\n",
    "\n",
    "newBT = TreeNode(\"drinks\")\n",
    "leftchild = TreeNode(\"hot\")\n",
    "tea = TreeNode(\"Tea\")\n",
    "coffe = TreeNode(\"coffe\")\n",
    "leftchild.leftchild = tea\n",
    "leftchild.rightchild = coffe\n",
    "rightchild = TreeNode(\"cold\")\n",
    "newBT.leftchild = leftchild\n",
    "newBT.rightchild = rightchild\n",
    "\n",
    "def preordertraversal(rootnode):\n",
    "    if not rootnode:\n",
    "        return\n",
    "    print(rootnode.data)\n",
    "    preordertraversal(rootnode.leftchild)\n",
    "    preordertraversal(rootnode.rightchild)\n",
    "\n",
    "def inordertraversal(rootnode):\n",
    "    if not rootnode:\n",
    "        return\n",
    "    inordertraversal(rootnode.leftchild)\n",
    "    print(rootnode.data)\n",
    "    inordertraversal(rootnode.rightchild)\n",
    "    \n",
    "def postordertraversal(rootnode):\n",
    "    if not rootnode:\n",
    "        return\n",
    "    postordertraversal(rootnode.leftchild)\n",
    "    postordertraversal(rootnode.rightchild) \n",
    "    print(rootnode.data)\n",
    "\n",
    "\n",
    "inordertraversal(newBT)\n",
    "print(\"inorder is done\")\n",
    "postordertraversal(newBT)\n",
    "print(\"postorder is done\")\n",
    "preordertraversal(newBT)\n",
    "print(\"preorder is done\")\n"
   ]
  },
  {
   "cell_type": "code",
   "execution_count": 3,
   "metadata": {},
   "outputs": [
    {
     "name": "stdout",
     "output_type": "stream",
     "text": [
      "333\n",
      "232\n",
      "764\n"
     ]
    }
   ],
   "source": [
    "dur = [[100,198,333,323],\n",
    "      [122,232,221,111],\n",
    "    [233,565,245,764]]\n",
    "\n",
    "for i in range(0,3):\n",
    "    print(max(dur[i]))\n",
    "    "
   ]
  },
  {
   "cell_type": "code",
   "execution_count": 5,
   "metadata": {},
   "outputs": [
    {
     "name": "stdout",
     "output_type": "stream",
     "text": [
      "333\n",
      "232\n",
      "764\n"
     ]
    }
   ],
   "source": [
    "dur = [[100,198,333,323],\n",
    "      [122,232,221,111],\n",
    "    [233,565,245,764]]\n",
    "\n",
    "for i in range(0,3):\n",
    "    max = 0\n",
    "    for j in  dur[i]:\n",
    "        if max < j:\n",
    "            max = j\n",
    "    print(max)\n",
    "            "
   ]
  },
  {
   "cell_type": "code",
   "execution_count": 13,
   "metadata": {},
   "outputs": [
    {
     "name": "stdin",
     "output_type": "stream",
     "text": [
      "Enter the no of rows: 3\n",
      "Enter the no of cols: 3\n",
      "Enter value for mat[0][0]: 1\n",
      "Enter value for mat[0][1]: 1\n",
      "Enter value for mat[0][2]: 1\n",
      "Enter value for mat[1][0]: 1\n",
      "Enter value for mat[1][1]: 1\n",
      "Enter value for mat[1][2]: 1\n",
      "Enter value for mat[2][0]: 1\n",
      "Enter value for mat[2][1]: 1\n",
      "Enter value for mat[2][2]: 1\n"
     ]
    },
    {
     "name": "stdout",
     "output_type": "stream",
     "text": [
      "[[1, 1, 1], [1, 1, 1], [1, 1, 1]]\n",
      "1\n",
      "1\n",
      "1\n"
     ]
    }
   ],
   "source": [
    "row = int(input(\"Enter the no of rows:\"))\n",
    "col = int(input(\"Enter the no of cols:\"))\n",
    "matrix = []\n",
    "for i in range(row):\n",
    "    temprow = []\n",
    "    for j in range(col):\n",
    "        temp= int(input(f\"Enter value for mat[{i}][{j}]:\"))\n",
    "        temprow.append(temp)\n",
    "    matrix.append(temprow)\n",
    "print(matrix)\n",
    "\n",
    "for i in range(row):\n",
    "    max = 0\n",
    "    for j in  matrix[i]:\n",
    "        if max < j:\n",
    "            max = j\n",
    "    print(max)"
   ]
  },
  {
   "cell_type": "markdown",
   "metadata": {},
   "source": [
    "i am good girl no matter bad girl lovely lizrd"
   ]
  }
 ],
 "metadata": {
  "kernelspec": {
   "display_name": "Python 3 (ipykernel)",
   "language": "python",
   "name": "python3"
  },
  "language_info": {
   "codemirror_mode": {
    "name": "ipython",
    "version": 3
   },
   "file_extension": ".py",
   "mimetype": "text/x-python",
   "name": "python",
   "nbconvert_exporter": "python",
   "pygments_lexer": "ipython3",
   "version": "3.13.1"
  }
 },
 "nbformat": 4,
 "nbformat_minor": 4
}
