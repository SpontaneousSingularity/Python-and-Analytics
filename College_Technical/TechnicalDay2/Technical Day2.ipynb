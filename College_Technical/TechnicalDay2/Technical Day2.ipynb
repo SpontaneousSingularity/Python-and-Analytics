{
 "cells": [
  {
   "cell_type": "markdown",
   "id": "1b65ee4d-4c72-45e1-b13e-8f2d074c9fb8",
   "metadata": {},
   "source": [
    "<h2 style = \"color: green\"> Technical Day 2</h2>\n",
    "<br>"
   ]
  },
  {
   "cell_type": "markdown",
   "id": "5b8ca2c3-19de-4159-8b95-831c73126303",
   "metadata": {},
   "source": [
    "<h3>Exception Handling</h3>"
   ]
  },
  {
   "cell_type": "markdown",
   "id": "269370aa-a1c5-4079-8161-c5a1d8eeb5aa",
   "metadata": {},
   "source": [
    "  <b>Types of error</b>\n",
    "1. Syntax error\n",
    "2. Runtime error"
   ]
  },
  {
   "cell_type": "code",
   "execution_count": 1,
   "id": "4dc11d64-093f-490e-82a1-9052d8c87ca5",
   "metadata": {},
   "outputs": [
    {
     "name": "stdin",
     "output_type": "stream",
     "text": [
      "ENter First value 10\n",
      "ENter second value 0\n"
     ]
    },
    {
     "name": "stdout",
     "output_type": "stream",
     "text": [
      "Cannot Divide by Zero\n"
     ]
    }
   ],
   "source": [
    "val1 = int(input(\"Enter First value\"))\n",
    "val2 = int(input(\"Enter second value\"))\n",
    "try:\n",
    "    print(val1/val2)\n",
    "except:\n",
    "    print(\"Cannot Divide by Zero\")"
   ]
  },
  {
   "cell_type": "code",
   "execution_count": 3,
   "id": "30e083ba-ed9b-424f-b16c-e1ad68ffd45a",
   "metadata": {},
   "outputs": [
    {
     "name": "stdin",
     "output_type": "stream",
     "text": [
      "Enter First value 34\n",
      "Enter second value 0\n"
     ]
    },
    {
     "name": "stdout",
     "output_type": "stream",
     "text": [
      "You Cannot Divide by Zero\n"
     ]
    }
   ],
   "source": [
    "try:\n",
    "    val1 = int(input(\"Enter First value\"))\n",
    "    val2 = int(input(\"Enter second value\"))\n",
    "\n",
    "    print(val1/val2)\n",
    "    \n",
    "except ZeroDivisionError as message:\n",
    "    print(\"You Cannot Divide by Zero\")\n",
    "except ValueError as message:\n",
    "        print(\"Enter only Integer no=>\",message)\n"
   ]
  },
  {
   "cell_type": "code",
   "execution_count": 6,
   "id": "a2630650-a5dd-48a1-85ac-f4909718577a",
   "metadata": {},
   "outputs": [
    {
     "name": "stdin",
     "output_type": "stream",
     "text": [
      "Enter First value 34\n",
      "Enter second value *\n"
     ]
    },
    {
     "name": "stdout",
     "output_type": "stream",
     "text": [
      "invalid literal for int() with base 10: '*'\n"
     ]
    }
   ],
   "source": [
    "#we can handle multiple exception in single except block:\n",
    "\n",
    "try:\n",
    "    val1 = int(input(\"Enter First value\"))\n",
    "    val2 = int(input(\"Enter second value\"))\n",
    "\n",
    "    print(val1/val2)\n",
    "    \n",
    "except (ZeroDivisionError,ValueError) as message:\n",
    "    print(message)"
   ]
  },
  {
   "cell_type": "code",
   "execution_count": 7,
   "id": "8d2d2bb8-73c3-4ee6-a241-48c7e427c0ef",
   "metadata": {},
   "outputs": [
    {
     "name": "stdin",
     "output_type": "stream",
     "text": [
      "Enter First value hg\n"
     ]
    },
    {
     "name": "stdout",
     "output_type": "stream",
     "text": [
      "Default Exception\n"
     ]
    }
   ],
   "source": [
    "# try:\n",
    "#     val1 = int(input(\"Enter First value\"))\n",
    "#     val2 = int(input(\"Enter second value\"))\n",
    "\n",
    "#     print(val1/val2)\n",
    "    \n",
    "# except :\n",
    "#     print(\"DEfault except block\")\n",
    "# except ValueError as message:\n",
    "#         print(\"Enter only Integer no=>\",message)\n",
    "\n",
    "\n",
    "# Default Except Block is always last\n",
    "\n",
    "try:\n",
    "    val1 = int(input(\"Enter First value\"))\n",
    "    val2 = int(input(\"Enter second value\"))\n",
    "\n",
    "    print(val1/val2)\n",
    "    \n",
    "except ZeroDivisionError as message:\n",
    "    print(\"You Cannot Divide by Zero\")\n",
    "except:\n",
    "        print(\"Default Exception\")\n"
   ]
  },
  {
   "cell_type": "code",
   "execution_count": 10,
   "id": "1ca4cf78-51a4-4297-81dd-7bfaa380f24e",
   "metadata": {},
   "outputs": [
    {
     "name": "stdin",
     "output_type": "stream",
     "text": [
      "Enter First value 23\n",
      "Enter second value 13\n"
     ]
    },
    {
     "name": "stdout",
     "output_type": "stream",
     "text": [
      "1.769\n",
      "everything is okay\n"
     ]
    }
   ],
   "source": [
    "#You can use else with except\n",
    "\n",
    "try:\n",
    "    val1 = int(input(\"Enter First value\"))\n",
    "    val2 = int(input(\"Enter second value\"))\n",
    "\n",
    "    print(round((val1/val2),3))\n",
    "    \n",
    "except ZeroDivisionError as message:\n",
    "    print(\"You Cannot Divide by Zero\")\n",
    "except:\n",
    "        print(\"Default Exception\")\n",
    "else:\n",
    "    print(\"everything is okay\")\n"
   ]
  },
  {
   "cell_type": "code",
   "execution_count": 12,
   "id": "4fd8d337-7328-464d-b4d3-041bfe2a2c18",
   "metadata": {},
   "outputs": [
    {
     "name": "stdin",
     "output_type": "stream",
     "text": [
      "Enter First value @\n"
     ]
    },
    {
     "name": "stdout",
     "output_type": "stream",
     "text": [
      "invalid literal for int() with base 10: '@'\n"
     ]
    }
   ],
   "source": [
    "#Nested Try except Block\n",
    "try:\n",
    "    val1 = int(input(\"Enter First value\"))\n",
    "    val2 = int(input(\"Enter second value\"))\n",
    "    try:\n",
    "        print(round((val1/val2),3))\n",
    "    except ZeroDivisionError as message:\n",
    "        print(\"You Cannot Divide by Zero\")\n",
    "except ValueError as message:\n",
    "        print(message)"
   ]
  },
  {
   "cell_type": "code",
   "execution_count": 14,
   "id": "40316c0b-9b12-4ada-98d0-7ae01916bacc",
   "metadata": {},
   "outputs": [
    {
     "name": "stdin",
     "output_type": "stream",
     "text": [
      "Enter First value 34\n",
      "Enter second value 23\n"
     ]
    },
    {
     "name": "stdout",
     "output_type": "stream",
     "text": [
      "1.478\n",
      "everything is okay\n",
      "Finally block is always executed\n"
     ]
    }
   ],
   "source": [
    "try:\n",
    "    val1 = int(input(\"Enter First value\"))\n",
    "    val2 = int(input(\"Enter second value\"))\n",
    "\n",
    "    print(round((val1/val2),3))\n",
    "    \n",
    "except ZeroDivisionError as message:\n",
    "    print(\"You Cannot Divide by Zero\")\n",
    "except:\n",
    "        print(\"Default Exception\")\n",
    "else:\n",
    "    print(\"everything is okay\")\n",
    "finally:\n",
    "    print(\"Finally block is always executed\")"
   ]
  },
  {
   "cell_type": "markdown",
   "id": "b9f392d2-e4b9-4290-b086-a836b8bb2be6",
   "metadata": {},
   "source": [
    "### logging"
   ]
  },
  {
   "cell_type": "code",
   "execution_count": 17,
   "id": "4931c9e2-fddd-4f44-bd47-2c86f3fdf813",
   "metadata": {},
   "outputs": [],
   "source": [
    "import logging\n",
    "logging.basicConfig(filename=\"newfile.txt\",level = logging.DEBUG)\n",
    "logging.debug(\"this indicates debugging info\")\n",
    "logging.info(\"this indicates Important info\")\n",
    "logging.error(\"this indicates Error info\")\n",
    "logging.warning(\"this indicates Warning info\")\n",
    "logging.critical(\"this indicates Critical info\")\n",
    "#this created a file named newfile.txt"
   ]
  },
  {
   "cell_type": "code",
   "execution_count": 19,
   "id": "4fabdfce-4f15-4e04-b06a-caa53b63b703",
   "metadata": {},
   "outputs": [
    {
     "name": "stdin",
     "output_type": "stream",
     "text": [
      "Enter First value 23\n",
      "Enter second value ;\n"
     ]
    },
    {
     "name": "stdout",
     "output_type": "stream",
     "text": [
      "invalid literal for int() with base 10: ';'\n"
     ]
    }
   ],
   "source": [
    "import logging\n",
    "logging.basicConfig(filename=\"newexception.txt\",level = logging.DEBUG)\n",
    "try:\n",
    "    val1 = int(input(\"Enter First value\"))\n",
    "    val2 = int(input(\"Enter second value\"))\n",
    "\n",
    "    print(round((val1/val2),3))\n",
    "except (ZeroDivisionError,ValueError) as message:\n",
    "    print(message)\n",
    "    logging.exception(message)\n"
   ]
  },
  {
   "cell_type": "code",
   "execution_count": 22,
   "id": "a5655bde-7ca1-47d4-b281-c2f418587dfd",
   "metadata": {},
   "outputs": [
    {
     "ename": "ValueError",
     "evalue": "attempt to assign sequence of size 6 to extended slice of size 5",
     "output_type": "error",
     "traceback": [
      "\u001b[1;31m---------------------------------------------------------------------------\u001b[0m",
      "\u001b[1;31mValueError\u001b[0m                                Traceback (most recent call last)",
      "Cell \u001b[1;32mIn[22], line 3\u001b[0m\n\u001b[0;32m      1\u001b[0m \u001b[38;5;66;03m# ValueError: attempt to assign sequence of size 6 to extended slice of size 5\u001b[39;00m\n\u001b[0;32m      2\u001b[0m a\u001b[38;5;241m=\u001b[39m[\u001b[38;5;241m1\u001b[39m,\u001b[38;5;241m2\u001b[39m,\u001b[38;5;241m3\u001b[39m,\u001b[38;5;241m4\u001b[39m,\u001b[38;5;241m5\u001b[39m,\u001b[38;5;241m6\u001b[39m,\u001b[38;5;241m7\u001b[39m,\u001b[38;5;241m8\u001b[39m,\u001b[38;5;241m9\u001b[39m]\n\u001b[1;32m----> 3\u001b[0m \u001b[43ma\u001b[49m\u001b[43m[\u001b[49m\u001b[43m:\u001b[49m\u001b[43m:\u001b[49m\u001b[38;5;241;43m2\u001b[39;49m\u001b[43m]\u001b[49m \u001b[38;5;241m=\u001b[39m \u001b[38;5;241m10\u001b[39m,\u001b[38;5;241m20\u001b[39m,\u001b[38;5;241m30\u001b[39m,\u001b[38;5;241m40\u001b[39m,\u001b[38;5;241m50\u001b[39m,\u001b[38;5;241m60\u001b[39m\n\u001b[0;32m      4\u001b[0m \u001b[38;5;28mprint\u001b[39m(a)\n",
      "\u001b[1;31mValueError\u001b[0m: attempt to assign sequence of size 6 to extended slice of size 5"
     ]
    }
   ],
   "source": [
    "# ValueError: attempt to assign sequence of size 6 to extended slice of size 5\n",
    "a=[1,2,3,4,5,6,7,8,9]\n",
    "a[::2] = 10,20,30,40,50,60\n",
    "print(a)"
   ]
  },
  {
   "cell_type": "code",
   "execution_count": null,
   "id": "7597bb64-6156-4566-90ce-fcebfed6a0ab",
   "metadata": {},
   "outputs": [],
   "source": [
    "data = [[[1,2],[3,4]],[[5,6],[7,8]]]\n",
    "def fun(m):\n",
    "    v = m[0][0]\n",
    "    for row in m:\n",
    "        for element in row:\n",
    "            if v < element:v = element\n",
    "    return v\n",
    "print(fun(data[0]))"
   ]
  },
  {
   "cell_type": "code",
   "execution_count": 23,
   "id": "b0696377-1fbe-45f6-bcbc-1122245a2124",
   "metadata": {},
   "outputs": [
    {
     "name": "stdout",
     "output_type": "stream",
     "text": [
      "4\n",
      "8\n",
      "12\n",
      "16\n"
     ]
    }
   ],
   "source": [
    "arr = [[1,2,3,4],\n",
    "      [5,6,7,8],\n",
    "      [9,10,11,12],\n",
    "      [13,14,15,16]]\n",
    "for i in range(0,4):\n",
    "    print(arr[i].pop())"
   ]
  },
  {
   "cell_type": "code",
   "execution_count": 25,
   "id": "9cb49db6-d3b2-4ffc-9995-808141c22fe9",
   "metadata": {},
   "outputs": [
    {
     "name": "stdout",
     "output_type": "stream",
     "text": [
      "[1]\n",
      "[1, 2]\n",
      "[1, 2, 3]\n"
     ]
    }
   ],
   "source": [
    "def f(i,values =[]):\n",
    "    values.append(i)\n",
    "    print (values)\n",
    "f(1)\n",
    "f(2)\n",
    "f(3)"
   ]
  },
  {
   "cell_type": "code",
   "execution_count": 26,
   "id": "e4340516-7469-448c-8765-22235973aec9",
   "metadata": {},
   "outputs": [
    {
     "name": "stdout",
     "output_type": "stream",
     "text": [
      "2 3 4 5 6 6 "
     ]
    }
   ],
   "source": [
    "arr = [1,2,3,4,5,6]\n",
    "for i in range(1,6):\n",
    "    arr[i-1] = arr[i]\n",
    "for i in range(0,6):\n",
    "    print(arr[i],end = ' ')\n",
    "        "
   ]
  },
  {
   "cell_type": "code",
   "execution_count": null,
   "id": "8271b0e9-1d9d-44dc-9d64-dad028b54216",
   "metadata": {},
   "outputs": [],
   "source": [
    "fruit_list1 = ['apple','berry','cherry','papaya']\n",
    "fruit_list2 = fruit_list1 #list alising\n",
    "fruit_list3 = fruit_list1[:] # takes data from list 1, does not point to it\n",
    "fruit_list2[0] = 'guava'\n",
    "fruit_list3[1] = 'kiwi'\n",
    "\n",
    "sum = 0\n",
    "\n",
    "for ls in (fruit_list1,fruit_list2,fruit_list3):\n",
    "    if ls[0] == 'guava':\n",
    "        sum += 1\n",
    "    if ls[1] == \"kiwi\"\n",
    "        sum += 20\n",
    "print(sum)"
   ]
  },
  {
   "cell_type": "code",
   "execution_count": 1,
   "id": "d64d463c-ec88-4b08-abd6-eecad2dda9ed",
   "metadata": {},
   "outputs": [
    {
     "name": "stdout",
     "output_type": "stream",
     "text": [
      "0.04810486168513817\n",
      "0.7015029654075132\n",
      "0.2708947490099961\n",
      "0.49307112496246186\n",
      "0.16233801681405402\n"
     ]
    }
   ],
   "source": [
    "from random import*\n",
    "for i in range(5):\n",
    "    print(random())"
   ]
  },
  {
   "cell_type": "code",
   "execution_count": 3,
   "id": "29a86cd8-e3f0-4439-92ce-fdca9b803bd9",
   "metadata": {},
   "outputs": [
    {
     "name": "stdout",
     "output_type": "stream",
     "text": [
      "2973043\n",
      "201603\n",
      "1651955\n",
      "8916912\n",
      "8572113\n"
     ]
    }
   ],
   "source": [
    "from random import*\n",
    "for i in range(5):\n",
    "    print(randint(1,10000000))"
   ]
  },
  {
   "cell_type": "code",
   "execution_count": 4,
   "id": "d965bf9b-242a-469d-890d-3606ed700d62",
   "metadata": {},
   "outputs": [
    {
     "name": "stdout",
     "output_type": "stream",
     "text": [
      "2.844969692011209\n",
      "3.4474488713910874\n",
      "8.669910638692993\n",
      "9.196848711337555\n",
      "3.6219874023166176\n"
     ]
    }
   ],
   "source": [
    "from random import*\n",
    "for i in range(5):\n",
    "    print(uniform(1,10))"
   ]
  },
  {
   "cell_type": "code",
   "execution_count": 5,
   "id": "0e180c3f-2796-4552-8788-f0eed5f6e891",
   "metadata": {},
   "outputs": [
    {
     "name": "stdout",
     "output_type": "stream",
     "text": [
      "a\n",
      "su\n",
      "n\n",
      "n\n",
      "p\n",
      "s\n",
      "p\n",
      "p\n",
      "s\n",
      "n\n"
     ]
    }
   ],
   "source": [
    "from random import*\n",
    "list = [\"p\",\"r\",\"a\",\"s\",\"su\",\"n\"]\n",
    "for i in range(10):\n",
    "    print(choice(list))"
   ]
  },
  {
   "cell_type": "code",
   "execution_count": 10,
   "id": "b32a856a-69a5-42c9-8e26-a5a72230320d",
   "metadata": {},
   "outputs": [
    {
     "name": "stdout",
     "output_type": "stream",
     "text": [
      "[2, -1, 4, -3, 5, -6]\n"
     ]
    }
   ],
   "source": [
    "#arrange elements in a list in alternative positive and negative numbers\n",
    "\n",
    "ls = [-1, 2, -3, 4, 5, -6]\n",
    "pos = []\n",
    "neg = []\n",
    "arranged = []\n",
    "\n",
    "for i in ls:\n",
    "    if i >= 0:\n",
    "        pos.append(i)\n",
    "    else:\n",
    "        neg.append(i)\n",
    "\n",
    "for i in range(min(len(pos), len(neg))):\n",
    "    arranged.append(pos[i])\n",
    "    arranged.append(neg[i])\n",
    "\n",
    "print(arranged)\n",
    "\n"
   ]
  },
  {
   "cell_type": "code",
   "execution_count": 11,
   "id": "9308ff11-a2f3-4f93-a3fb-98852f8d8f98",
   "metadata": {},
   "outputs": [
    {
     "name": "stdout",
     "output_type": "stream",
     "text": [
      "[1, 3, 12, 0, 0]\n"
     ]
    }
   ],
   "source": [
    "a=[0,1,0,3,12]\n",
    "for i in a:\n",
    "    a.remove(i)\n",
    "    a.append(i)\n",
    "\n",
    "print(a)"
   ]
  },
  {
   "cell_type": "code",
   "execution_count": 14,
   "id": "c8ae53c3-213c-41cb-9b1d-5f1a9344a075",
   "metadata": {},
   "outputs": [
    {
     "name": "stdout",
     "output_type": "stream",
     "text": [
      "3 "
     ]
    }
   ],
   "source": [
    "set1 = [1,2,3]\n",
    "set2 = [2,3,4]\n",
    "set3 = [3,4,5]\n",
    "for i in set1:\n",
    "    if i in set2 and i in set3:\n",
    "        print(i,end = \" \")"
   ]
  },
  {
   "cell_type": "code",
   "execution_count": null,
   "id": "77488d27-61b7-4834-b398-6e8455c47f3c",
   "metadata": {},
   "outputs": [],
   "source": [
    "def moore_voting_algorithm(arr):\n",
    "    candidate = None\n",
    "    count = 0\n",
    "    for num in arr:\n",
    "        if count == 0:\n",
    "            candidate = num\n",
    "        count += (1 if num == candidate else -1)\n",
    "\n",
    "    if arr.count(candidate) > len(arr) // 2:\n",
    "        return candidate\n",
    "    return None  \n",
    "\n",
    "arr = [2, 2, 1, 1, 2, 2, 2]\n",
    "print(moore_voting_algorithm(arr))"
   ]
  },
  {
   "cell_type": "code",
   "execution_count": 15,
   "id": "13d1059f-6620-4337-9255-1f4d1c44036e",
   "metadata": {},
   "outputs": [
    {
     "name": "stdout",
     "output_type": "stream",
     "text": [
      "3\n"
     ]
    }
   ],
   "source": [
    "fruit = {}\n",
    "def addone(index):\n",
    "    if index in fruit:\n",
    "        fruit[index] += 1\n",
    "    else:\n",
    "        fruit[index] = 1\n",
    "addone(\"aple\")\n",
    "addone(\"bannana\")\n",
    "addone(\"dd\")\n",
    "print(len(fruit))"
   ]
  },
  {
   "cell_type": "code",
   "execution_count": 17,
   "id": "e22310de-a144-41f8-a25f-f3cdf3f55aae",
   "metadata": {},
   "outputs": [
    {
     "name": "stdout",
     "output_type": "stream",
     "text": [
      "{1: 1}\n",
      "{1: 1, '1': 2}\n",
      "{1: 2, '1': 2}\n",
      "4\n",
      "{1: 2, '1': 2}\n"
     ]
    }
   ],
   "source": [
    "arr = {}\n",
    "arr[1] = 1\n",
    "arr['1'] = 2\n",
    "arr[1] += 1\n",
    "sum = 0\n",
    "for k in arr:\n",
    "    sum += arr[k]\n",
    "print(sum)\n",
    "print(arr)"
   ]
  },
  {
   "cell_type": "code",
   "execution_count": 21,
   "id": "d3f70085-f2a5-4663-a57c-dec84f1d55ae",
   "metadata": {},
   "outputs": [
    {
     "name": "stdout",
     "output_type": "stream",
     "text": [
      "{1: 1, '1': 2}\n",
      "{1: 4, '1': 2}\n",
      "6\n"
     ]
    }
   ],
   "source": [
    "a = {}\n",
    "a[1] = 1\n",
    "a['1'] = 2\n",
    "print(a)\n",
    "a[1.0] = 4\n",
    "print(a)\n",
    "sum = 0\n",
    "for k in  a:\n",
    "    sum += a[k]\n",
    "\n",
    "print(sum)\n"
   ]
  },
  {
   "cell_type": "code",
   "execution_count": 22,
   "id": "2069e36f-f5c2-47e4-af62-8fe07d206736",
   "metadata": {},
   "outputs": [
    {
     "name": "stdout",
     "output_type": "stream",
     "text": [
      "30\n",
      "{(1, 2, 4): 8, (4, 2, 1): 10, (1, 2): 12}\n"
     ]
    }
   ],
   "source": [
    "c = {}\n",
    "c[(1,2,4)] = 8\n",
    "c[(4,2,1)] = 10\n",
    "c[(1,2)] = 12\n",
    "\n",
    "sum = 0\n",
    "for k in c:\n",
    "    sum += c[k]\n",
    "print(sum)\n",
    "print(c)"
   ]
  }
 ],
 "metadata": {
  "kernelspec": {
   "display_name": "Python 3 (ipykernel)",
   "language": "python",
   "name": "python3"
  },
  "language_info": {
   "codemirror_mode": {
    "name": "ipython",
    "version": 3
   },
   "file_extension": ".py",
   "mimetype": "text/x-python",
   "name": "python",
   "nbconvert_exporter": "python",
   "pygments_lexer": "ipython3",
   "version": "3.13.1"
  }
 },
 "nbformat": 4,
 "nbformat_minor": 5
}
