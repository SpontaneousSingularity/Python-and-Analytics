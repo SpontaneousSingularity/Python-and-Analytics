{
 "cells": [
  {
   "cell_type": "code",
   "execution_count": 1,
   "id": "c0d28bae-b1e8-45dc-9307-f4288ee6a5c2",
   "metadata": {},
   "outputs": [
    {
     "name": "stdout",
     "output_type": "stream",
     "text": [
      "a|b|c\n"
     ]
    }
   ],
   "source": [
    "s= \"a\",\"b\",\"c\"\n",
    "m=\"|\".join(s)\n",
    "print(m)"
   ]
  },
  {
   "cell_type": "code",
   "execution_count": 2,
   "id": "9909ae31-5f7e-4373-bdb0-2fc4af1525e5",
   "metadata": {},
   "outputs": [
    {
     "name": "stdout",
     "output_type": "stream",
     "text": [
      "8\n",
      "-1\n"
     ]
    }
   ],
   "source": [
    "a = \"durvesh is a bad student he doesnt know how to code\"\n",
    "print(a.find(\"is\"))\n",
    "#prints -1 if the word doesn't exist\n",
    "print(a.find(\"help\"))"
   ]
  },
  {
   "cell_type": "code",
   "execution_count": 3,
   "id": "61153891-274d-48da-914d-21d6b8b01dbd",
   "metadata": {},
   "outputs": [
    {
     "name": "stdout",
     "output_type": "stream",
     "text": [
      "True\n",
      "False\n",
      "False\n",
      "False\n",
      "False\n",
      "True\n",
      "False\n",
      "True\n"
     ]
    }
   ],
   "source": [
    "print('durvesh1516'.isalnum())\n",
    "print('durvesh1516'.isalpha())\n",
    "print('durvesh1516'.isdigit())\n",
    "print(''.islower())\n",
    "print('Durvesh1516'.isupper())\n",
    "print('Durvesh1516'.istitle())\n",
    "print('Durvesh1516'.startswith(\"he\"))\n",
    "print('Durvesh1516'.endswith(\"1516\"))"
   ]
  },
  {
   "cell_type": "code",
   "execution_count": 4,
   "id": "7d30a6a5-381e-4962-9b1a-86fedfba2453",
   "metadata": {},
   "outputs": [
    {
     "name": "stdout",
     "output_type": "stream",
     "text": [
      "3\n",
      "1\n",
      "0\n",
      "3\n"
     ]
    }
   ],
   "source": [
    "print(int(3.14))\n",
    "#print(int(\"3.14\"))   can't be typecasted\n",
    "print(int(True))\n",
    "print(int(False))\n",
    "#print(int(10+5j))\n",
    "print(int(\"3\"))"
   ]
  },
  {
   "cell_type": "code",
   "execution_count": 5,
   "id": "5ccf78a2-a94a-4e29-a307-824d46f8d2d9",
   "metadata": {},
   "outputs": [
    {
     "name": "stdout",
     "output_type": "stream",
     "text": [
      "1.0\n",
      "0.0\n",
      "3.14\n"
     ]
    }
   ],
   "source": [
    "print(float(True))\n",
    "print(float(False))\n",
    "#print(float(10+j))\n",
    "print(float(3.14))"
   ]
  },
  {
   "cell_type": "code",
   "execution_count": 6,
   "id": "4c9c259d-efa2-4b69-85bf-bca3bc547633",
   "metadata": {},
   "outputs": [
    {
     "name": "stdout",
     "output_type": "stream",
     "text": [
      "(3.14+0j)\n",
      "(3.14+0j)\n",
      "(1+0j)\n",
      "0j\n",
      "(10+5j)\n",
      "(3+0j)\n"
     ]
    }
   ],
   "source": [
    "print(complex(3.14))\n",
    "print(complex(\"3.14\"))  \n",
    "print(complex(True))\n",
    "print(complex(False))\n",
    "print(complex(10+5j))\n",
    "print(complex(\"3\"))\n",
    "#print(complex(\"Durvesh\"))"
   ]
  },
  {
   "cell_type": "code",
   "execution_count": 7,
   "id": "d937cf96-a843-40a2-ba2f-2e328bcbd731",
   "metadata": {},
   "outputs": [
    {
     "name": "stdout",
     "output_type": "stream",
     "text": [
      "True\n",
      "False\n",
      "True\n",
      "True\n",
      "False\n",
      "True\n",
      "False\n",
      "True\n",
      "True\n",
      "False\n",
      "True\n"
     ]
    }
   ],
   "source": [
    "print(bool(3.14))\n",
    "print(bool(0))\n",
    "print(bool(\"3.14\"))  \n",
    "print(bool(True))\n",
    "print(bool(False))\n",
    "print(bool(10+5j))\n",
    "print(bool(0+0j))\n",
    "print(bool(\"3\"))\n",
    "print(bool(\"Durvesh\"))\n",
    "print(bool(\"\"))\n",
    "print(bool(-1))"
   ]
  },
  {
   "cell_type": "code",
   "execution_count": 8,
   "id": "4f053830-201d-43da-b838-cf933287b55c",
   "metadata": {},
   "outputs": [
    {
     "name": "stdout",
     "output_type": "stream",
     "text": [
      "1\n",
      "2\n",
      "3\n",
      "4\n"
     ]
    }
   ],
   "source": [
    "for i in range(1,5):\n",
    "    print(i)"
   ]
  },
  {
   "cell_type": "code",
   "execution_count": 9,
   "id": "148dfcf4-b473-477d-a443-aa3c9d058304",
   "metadata": {},
   "outputs": [
    {
     "name": "stdout",
     "output_type": "stream",
     "text": [
      "1\n",
      "3\n",
      "5\n",
      "7\n",
      "9\n"
     ]
    }
   ],
   "source": [
    "for i in range(1,10,2):\n",
    "    print(i)"
   ]
  },
  {
   "cell_type": "code",
   "execution_count": 10,
   "id": "b7ea5e1c-c706-4c92-b52b-56ad8b6e6098",
   "metadata": {},
   "outputs": [
    {
     "name": "stdout",
     "output_type": "stream",
     "text": [
      "0\n",
      "2\n",
      "4\n",
      "6\n",
      "8\n"
     ]
    }
   ],
   "source": [
    "for i in range(0,10,2):\n",
    "    print(i)"
   ]
  },
  {
   "cell_type": "code",
   "execution_count": 11,
   "id": "ea50fddf-cbc6-44de-ac24-eca634376f6b",
   "metadata": {},
   "outputs": [
    {
     "name": "stdout",
     "output_type": "stream",
     "text": [
      " 0 0 0 0 0 0 0 0 0\n",
      " 2 3 4 5 6 7 8 9 10\n",
      " 4 6 8 10 12 14 16 18 20\n",
      " 6 9 12 15 18 21 24 27 30\n",
      " 8 12 16 20 24 28 32 36 40\n",
      " 10 15 20 25 30 35 40 45 50\n",
      " 12 18 24 30 36 42 48 54 60\n",
      " 14 21 28 35 42 49 56 63 70\n",
      " 16 24 32 40 48 56 64 72 80\n",
      " 18 27 36 45 54 63 72 81 90\n",
      " 20 30 40 50 60 70 80 90 100\n",
      "\n",
      "------------------------------------------------------\n",
      "0 0 0 0 0 0 0 0 0 0\n",
      "11 12 13 14 15 16 17 18 19 20\n",
      "22 24 26 28 30 32 34 36 38 40\n",
      "33 36 39 42 45 48 51 54 57 60\n",
      "44 48 52 56 60 64 68 72 76 80\n",
      "55 60 65 70 75 80 85 90 95 100\n",
      "66 72 78 84 90 96 102 108 114 120\n",
      "77 84 91 98 105 112 119 126 133 140\n",
      "88 96 104 112 120 128 136 144 152 160\n",
      "99 108 117 126 135 144 153 162 171 180\n",
      "110 120 130 140 150 160 170 180 190 200\n"
     ]
    }
   ],
   "source": [
    "for i in range(0,11):\n",
    "    print(f' {i*2} {i*3} {i*4} {i*5} {i*6} {i*7} {i*8} {i*9} {i*10}')\n",
    "print(\"\\n------------------------------------------------------\")\n",
    "for i in range(0,11):\n",
    "    print(f'{i*11} {i*12} {i*13} {i*14} {i*15} {i*16} {i*17} {i*18} {i*19} {i*20}')"
   ]
  },
  {
   "cell_type": "code",
   "execution_count": 12,
   "id": "cd0aa2d7-2253-4a64-9510-67c36f244db0",
   "metadata": {},
   "outputs": [
    {
     "name": "stdin",
     "output_type": "stream",
     "text": [
      "Enter marks for subject 1:  50\n",
      "Enter marks for subject 2:  50\n",
      "Enter marks for subject 3:  50\n",
      "Enter marks for subject 4:  50\n",
      "Enter marks for subject 5:  50\n"
     ]
    },
    {
     "name": "stdout",
     "output_type": "stream",
     "text": [
      "You got grade C with 50.00%\n"
     ]
    }
   ],
   "source": [
    "marks = []  \n",
    "\n",
    "for i in range(1, 6):\n",
    "    marks.append(int(input(f'Enter marks for subject {i}: ')))  # Fixed append issue\n",
    "\n",
    "total_marks = sum(marks) \n",
    "percentage = (total_marks / 500) * 100\n",
    "\n",
    "\n",
    "if 40 <= percentage < 60:\n",
    "    print(f\"You got grade C with {percentage:.2f}%\")\n",
    "elif 60 <= percentage < 80:\n",
    "    print(f\"You got grade B with {percentage:.2f}%\")\n",
    "elif 80 <= percentage <= 100:\n",
    "    print(f\"You got grade A with {percentage:.2f}%\")\n",
    "else:\n",
    "    print(f\"You failed with {percentage:.2f}%\")\n"
   ]
  },
  {
   "cell_type": "code",
   "execution_count": 13,
   "id": "d28c8e80-04e7-43fd-9aa7-e8233989d674",
   "metadata": {},
   "outputs": [
    {
     "name": "stdin",
     "output_type": "stream",
     "text": [
      "Enter any Single Chr %\n"
     ]
    },
    {
     "name": "stdout",
     "output_type": "stream",
     "text": [
      "special Char\n"
     ]
    }
   ],
   "source": [
    "ch = ord(input(\"Enter any Single Chr\"))\n",
    "\n",
    "if ch>=65 and ch<=91:\n",
    "    print(\"character is uppercase\")\n",
    "elif ch>=97 and ch<=122:\n",
    "    print(\"character is lowercase\")\n",
    "elif ch>=48 and ch<=57:\n",
    "    print(\"character is lowercase\")\n",
    "else:\n",
    "    print('special Char')"
   ]
  },
  {
   "cell_type": "code",
   "execution_count": 18,
   "id": "2f444cb4-e51c-4671-bfe6-70912295fa24",
   "metadata": {},
   "outputs": [
    {
     "name": "stdout",
     "output_type": "stream",
     "text": [
      "1 5\n",
      "2 4\n",
      "4 2\n",
      "5 1\n"
     ]
    }
   ],
   "source": [
    "for i in range(1,6):\n",
    "    if i==3: continue\n",
    "    print(f\"{i} {6-i}\")"
   ]
  },
  {
   "cell_type": "code",
   "execution_count": 21,
   "id": "9f8d583f-5f0d-4a9f-86f1-60c6a042f9be",
   "metadata": {},
   "outputs": [
    {
     "name": "stdout",
     "output_type": "stream",
     "text": [
      "1   5\n",
      "2   4\n",
      "4   2\n",
      "5   1\n"
     ]
    }
   ],
   "source": [
    "#zip can be used to take multiple range functions\n",
    "for i,j in zip(range(1,6),range(5,0,-1)):\n",
    "    if i == 3 and j == 3: continue\n",
    "    print(i,' ',j)"
   ]
  },
  {
   "cell_type": "code",
   "execution_count": 23,
   "id": "0a148679-5e48-4f4b-a31a-73c8f2293185",
   "metadata": {},
   "outputs": [
    {
     "name": "stdout",
     "output_type": "stream",
     "text": [
      "160.0\n",
      "40.0\n",
      "110.0\n"
     ]
    }
   ],
   "source": [
    "a=50\n",
    "b=30\n",
    "c=20\n",
    "d=10\n",
    "print((a+b)*c/d)\n",
    "print((a-b)*(c/d))\n",
    "print((a+(b*c)/d))\n"
   ]
  },
  {
   "cell_type": "code",
   "execution_count": 30,
   "id": "c0c9bbf1-d655-4015-bf89-3a19ad239862",
   "metadata": {},
   "outputs": [
    {
     "name": "stdin",
     "output_type": "stream",
     "text": [
      "Enter your string racecar\n"
     ]
    },
    {
     "name": "stdout",
     "output_type": "stream",
     "text": [
      "string is a Palindrome\n"
     ]
    }
   ],
   "source": [
    "word = input(\"Enter your string\")\n",
    "wordinv=word[::-1]\n",
    "if word == wordinv:\n",
    "    print(\"string is a Palindrome\")\n",
    "else:print(\"string is not a Palindrome\")"
   ]
  },
  {
   "cell_type": "code",
   "execution_count": 32,
   "id": "61c1f41b-5dc0-44bb-b952-370fec0d952e",
   "metadata": {},
   "outputs": [
    {
     "name": "stdin",
     "output_type": "stream",
     "text": [
      "Enter your string: durvesh\n"
     ]
    },
    {
     "name": "stdout",
     "output_type": "stream",
     "text": [
      "string is not a Palindrome\n"
     ]
    }
   ],
   "source": [
    "word = input(\"Enter your string:\")\n",
    "if word == word[::-1]:\n",
    "    print(\"string is a Palindrome\")\n",
    "else:print(\"string is not a Palindrome\")"
   ]
  },
  {
   "cell_type": "code",
   "execution_count": 39,
   "id": "f02ce0f7-fa9b-4d1b-8903-f5c5c9682ac3",
   "metadata": {},
   "outputs": [
    {
     "name": "stdin",
     "output_type": "stream",
     "text": [
      "Enter your Word: DUrvesh\n"
     ]
    },
    {
     "name": "stdout",
     "output_type": "stream",
     "text": [
      "Vowels:2\n",
      "Consonants:5\n"
     ]
    }
   ],
   "source": [
    "word = input(\"Enter your Word:\").lower()\n",
    "vowel = 0\n",
    "consonant = 0\n",
    "for i in word:\n",
    "    if 'a'== i or 'i'== i or 'e'== i or 'o'== i or 'u'== i:\n",
    "     vowel= vowel+1\n",
    "    else: consonant = consonant + 1\n",
    "print(f\"Vowels:{vowel}\")\n",
    "print(f\"Consonants:{consonant}\")\n"
   ]
  },
  {
   "cell_type": "code",
   "execution_count": 40,
   "id": "6c72818e-b6ba-4594-8416-d7c0779f224e",
   "metadata": {},
   "outputs": [
    {
     "name": "stdin",
     "output_type": "stream",
     "text": [
      "Enter first String: listen\n",
      "Enter second String: listen\n"
     ]
    },
    {
     "name": "stdout",
     "output_type": "stream",
     "text": [
      "They are Anagrams\n"
     ]
    }
   ],
   "source": [
    "s1 = input(\"Enter first String:\")\n",
    "s2 = input(\"Enter second String:\")\n",
    "\n",
    "if len(s1) == len(s2): \n",
    "    print('They are Anagrams')\n",
    "else: \n",
    "        print('They are not Anagrams')\n"
   ]
  },
  {
   "cell_type": "code",
   "execution_count": 47,
   "id": "6e44c0c9-5d43-4114-b83c-ed4235d0cfb6",
   "metadata": {},
   "outputs": [
    {
     "name": "stdin",
     "output_type": "stream",
     "text": [
      "Enter your Sentence abcd efghij klmnopqrstu vwxyz\n"
     ]
    },
    {
     "name": "stdout",
     "output_type": "stream",
     "text": [
      "Panagram\n"
     ]
    }
   ],
   "source": [
    "alphabet = 'abcdefghijklmnopqrstuvwxyz'\n",
    "\n",
    "sentence = input(\"Enter your Sentence\")\n",
    "sentence = sentence.replace(\" \",\"\")\n",
    "if set(alphabet) == set(sentence):\n",
    "    print(\"Panagram\")\n",
    "else:\n",
    "    print(\"Not Panagram\")"
   ]
  },
  {
   "cell_type": "code",
   "execution_count": 50,
   "id": "ac2348ba-8ce8-4742-ac8d-2c9f14407c64",
   "metadata": {},
   "outputs": [
    {
     "name": "stdin",
     "output_type": "stream",
     "text": [
      "Enter your string: durvesh\n"
     ]
    },
    {
     "name": "stdout",
     "output_type": "stream",
     "text": [
      "{'h', 'u', 'd', 'r', 'e', 's', 'v'}\n"
     ]
    }
   ],
   "source": [
    "d = input(\"Enter your string:\")\n",
    "print(set(d))"
   ]
  },
  {
   "cell_type": "code",
   "execution_count": 55,
   "id": "fbda1bbf-6558-4751-9189-9fa82a4c1bb8",
   "metadata": {},
   "outputs": [
    {
     "name": "stdin",
     "output_type": "stream",
     "text": [
      "Enter your main string: durvesh\n",
      "Enter Substring rv\n"
     ]
    },
    {
     "name": "stdout",
     "output_type": "stream",
     "text": [
      "1\n"
     ]
    }
   ],
   "source": [
    "s1 = input(\"Enter your main string:\")\n",
    "s2 = input(\"Enter Substring\")\n",
    "length = len(s2)\n",
    "count = 0\n",
    "for i in range(0,len(s1)+1):\n",
    "     if s1[i:i+length] == s2:\n",
    "        count = count + 1\n",
    "\n",
    "print(count)"
   ]
  },
  {
   "cell_type": "code",
   "execution_count": 56,
   "id": "1cef027e-e83b-4f53-b2d5-6b029eaf791c",
   "metadata": {},
   "outputs": [
    {
     "name": "stdin",
     "output_type": "stream",
     "text": [
      "enter your sentence hello is\n"
     ]
    },
    {
     "name": "stdout",
     "output_type": "stream",
     "text": [
      "Number of words are 2\n"
     ]
    }
   ],
   "source": [
    "sentence = input(\"enter your sentence\").strip()\n",
    "count = 0\n",
    "for i in sentence:\n",
    "    if i == \" \":\n",
    "        count = count+1\n",
    "print(f\"Number of words are {count+1}\")\n"
   ]
  },
  {
   "cell_type": "code",
   "execution_count": 57,
   "id": "51fa2e77-8753-4c2e-87d9-3614e0a73f28",
   "metadata": {},
   "outputs": [
    {
     "name": "stdin",
     "output_type": "stream",
     "text": [
      "enter your sentence durvesh is\n"
     ]
    },
    {
     "name": "stdout",
     "output_type": "stream",
     "text": [
      "2\n"
     ]
    }
   ],
   "source": [
    "sentence = input(\"enter your sentence\").split()\n",
    "print(len(sentence))"
   ]
  },
  {
   "cell_type": "code",
   "execution_count": 68,
   "id": "55c64691-f49d-487f-8713-b00105e6fafb",
   "metadata": {},
   "outputs": [
    {
     "name": "stdin",
     "output_type": "stream",
     "text": [
      "enter your sentence yo oy\n"
     ]
    },
    {
     "name": "stdout",
     "output_type": "stream",
     "text": [
      " oy yo\n"
     ]
    }
   ],
   "source": [
    "sentence = input(\"enter your sentence\").split()\n",
    "a=''\n",
    "for i in sentence[::-1]:\n",
    "    a = a+\" \"+i\n",
    "\n",
    "print(a)\n",
    "   "
   ]
  },
  {
   "cell_type": "code",
   "execution_count": null,
   "id": "ec3ccd75-8a71-4745-be3c-6a8101946791",
   "metadata": {},
   "outputs": [],
   "source": [
    "ss = input(\"enter your String\") # aaaabbbcc\n",
    "compressed=[]\n",
    "count = 0 \n",
    "for i in range(1,len(ss)):\n",
    "    if ss[i-1] == a[i-1:\n",
    "        count = count+1\n",
    "    else:\n",
    "        compressed.append(ss[-1]+str(count))\n",
    "print(\"\".join(compressed))\n",
    "    "
   ]
  },
  {
   "cell_type": "code",
   "execution_count": 72,
   "id": "ee05eef9-4c1b-4024-af1d-153380f807c9",
   "metadata": {},
   "outputs": [
    {
     "name": "stdin",
     "output_type": "stream",
     "text": [
      "enter your String aaaabbbcc\n"
     ]
    },
    {
     "name": "stdout",
     "output_type": "stream",
     "text": [
      "a4b3c2"
     ]
    }
   ],
   "source": [
    "name =input(\"enter your String\")\n",
    "newname ={}\n",
    "\n",
    "for i in range(len(name)):\n",
    "    key = name[i]\n",
    "    count=0\n",
    "    for j in range(len(name)):\n",
    "        if key == name[j]:\n",
    "            count+=1\n",
    "    newname[key] = count\n",
    "#print (newname)\n",
    "for i,j in newname.items():\n",
    "    print(i,j,sep=\"\",end=\"\")\n",
    "    "
   ]
  },
  {
   "cell_type": "code",
   "execution_count": null,
   "id": "724db25a-1083-4efe-9df5-3bcb8c365e61",
   "metadata": {},
   "outputs": [],
   "source": [
    "l1 = [1,2,3,4]\n",
    "count = 1\n",
    "for i in l1:\n",
    "    counti=1\n",
    "    for \n",
    "    \n"
   ]
  }
 ],
 "metadata": {
  "kernelspec": {
   "display_name": "Python 3 (ipykernel)",
   "language": "python",
   "name": "python3"
  },
  "language_info": {
   "codemirror_mode": {
    "name": "ipython",
    "version": 3
   },
   "file_extension": ".py",
   "mimetype": "text/x-python",
   "name": "python",
   "nbconvert_exporter": "python",
   "pygments_lexer": "ipython3",
   "version": "3.13.1"
  }
 },
 "nbformat": 4,
 "nbformat_minor": 5
}
