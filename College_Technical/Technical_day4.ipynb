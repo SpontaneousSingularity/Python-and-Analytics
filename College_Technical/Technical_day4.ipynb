{
 "cells": [
  {
   "cell_type": "markdown",
   "metadata": {},
   "source": []
  },
  {
   "cell_type": "code",
   "execution_count": 13,
   "metadata": {},
   "outputs": [
    {
     "name": "stdout",
     "output_type": "stream",
     "text": [
      "durvesh\n",
      "21\n",
      "Hello readers my name is durvesh and I am 21 years old.\n"
     ]
    }
   ],
   "source": [
    "class person:\n",
    "    def __init__(self,name,age):\n",
    "        self.age = age\n",
    "        self.name = name\n",
    "    def intro(self):\n",
    "        print(f\"Hello readers my name is {self.name} and I am {self.age} years old.\")\n",
    "\n",
    "person1 = person(\"durvesh\",21)\n",
    "print(person1.name)\n",
    "print(person1.age)\n",
    "person.intro(person1)"
   ]
  },
  {
   "cell_type": "code",
   "execution_count": 12,
   "metadata": {},
   "outputs": [
    {
     "name": "stdout",
     "output_type": "stream",
     "text": [
      "Hello Readers my name is alice and I am 20 years old.\n"
     ]
    }
   ],
   "source": [
    "class student(person):\n",
    "    def __init__(self,name,age,student_id):\n",
    "        super().__init__(name,age)\n",
    "        self.student_id = student_id\n",
    "student1 = student(\"alice\",20,12345)\n",
    "student1.intro()"
   ]
  },
  {
   "cell_type": "code",
   "execution_count": 16,
   "metadata": {},
   "outputs": [
    {
     "name": "stdout",
     "output_type": "stream",
     "text": [
      "index Position for element x is: 1\n"
     ]
    }
   ],
   "source": [
    "def nsearch(inp_list,element):\n",
    "    for index,value in enumerate(inp_list):\n",
    "        if value == element:\n",
    "            return index\n",
    "    return -1\n",
    "\n",
    "inp_list = [3,4,1,6,14]\n",
    "element = 4\n",
    "print(\"index Position for element x is:\",nsearch(inp_list,element))\n"
   ]
  },
  {
   "cell_type": "code",
   "execution_count": 19,
   "metadata": {},
   "outputs": [
    {
     "name": "stdout",
     "output_type": "stream",
     "text": [
      "[1, 2, 3, 4, 7, 45]\n"
     ]
    },
    {
     "data": {
      "text/plain": [
       "5"
      ]
     },
     "execution_count": 19,
     "metadata": {},
     "output_type": "execute_result"
    }
   ],
   "source": [
    "def binary_search(arr,low,high,key):\n",
    "    while low <= high:\n",
    "        mid = int(low+(high-low)/2)\n",
    "        if arr[mid] == key:\n",
    "            return mid\n",
    "        elif arr[mid] <key:\n",
    "            low = mid +1\n",
    "        else:\n",
    "            high = mid -1\n",
    "    return -1\n",
    "\n",
    "arr = [1,7,3,4,2,45]\n",
    "arr.sort()\n",
    "print(arr)\n",
    "binary_search(arr,0,len(arr),45)"
   ]
  },
  {
   "cell_type": "code",
   "execution_count": 21,
   "metadata": {},
   "outputs": [
    {
     "ename": "_IncompleteInputError",
     "evalue": "incomplete input (1158833624.py, line 13)",
     "output_type": "error",
     "traceback": [
      "\u001b[1;36m  Cell \u001b[1;32mIn[21], line 13\u001b[1;36m\u001b[0m\n\u001b[1;33m    def merge(first_sublist,second_sublist):\u001b[0m\n\u001b[1;37m                                            ^\u001b[0m\n\u001b[1;31m_IncompleteInputError\u001b[0m\u001b[1;31m:\u001b[0m incomplete input\n"
     ]
    }
   ],
   "source": [
    "def merge_sort(unsorted_list):\n",
    "    if len(unsorted_list) <= 1:\n",
    "        return unsorted_list  # Base case\n",
    "\n",
    "    mid_point = len(unsorted_list) // 2\n",
    "    first_half = unsorted_list[:mid_point]\n",
    "    second_half = unsorted_list[mid_point:]\n",
    "\n",
    "    half_a = merge_sort(first_half)\n",
    "    half_b = merge_sort(second_half)\n",
    "\n",
    "    return merge(half_a, half_b)\n",
    "\n",
    "def merge(first_sublist, second_sublist):\n",
    "    i = j = 0\n",
    "    merged_list = []\n",
    "\n",
    "    while i < len(first_sublist) and j < len(second_sublist):\n",
    "        if first_sublist[i] < second_sublist[j]:\n",
    "            merged_list.append(first_sublist[i])\n",
    "            i += 1\n",
    "        else:\n",
    "            merged_list.append(second_sublist[j])\n",
    "            j += 1\n",
    "\n",
    "    merged_list.extend(first_sublist[i:])\n",
    "    merged_list.extend(second_sublist[j:])\n",
    "\n",
    "    return merged_list\n",
    "\n",
    "unsorted_list = [34, 7, 23, 32, 5, 62]\n",
    "sorted_list = merge_sort(unsorted_list)\n",
    "print(sorted_list)  # Output: [5, 7, 23, 32, 34, 62]\n"
   ]
  },
  {
   "cell_type": "code",
   "execution_count": null,
   "metadata": {},
   "outputs": [],
   "source": []
  }
 ],
 "metadata": {
  "kernelspec": {
   "display_name": "Python 3 (ipykernel)",
   "language": "python",
   "name": "python3"
  },
  "language_info": {
   "codemirror_mode": {
    "name": "ipython",
    "version": 3
   },
   "file_extension": ".py",
   "mimetype": "text/x-python",
   "name": "python",
   "nbconvert_exporter": "python",
   "pygments_lexer": "ipython3",
   "version": "3.13.1"
  }
 },
 "nbformat": 4,
 "nbformat_minor": 4
}
