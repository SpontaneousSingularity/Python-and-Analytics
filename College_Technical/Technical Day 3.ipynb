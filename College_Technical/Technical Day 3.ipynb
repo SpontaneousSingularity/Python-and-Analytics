{
 "cells": [
  {
   "cell_type": "markdown",
   "id": "ed370e89-e6fb-40cc-8c32-3ceac9ca1331",
   "metadata": {},
   "source": [
    "<h1 style = \"color:green;text-align:center\"><b><u>Object Oriented Programing</u></b></h1>"
   ]
  },
  {
   "cell_type": "markdown",
   "id": "d74512bd-9a8d-4ecc-9b1a-5723d62baae7",
   "metadata": {},
   "source": [
    "----"
   ]
  },
  {
   "cell_type": "markdown",
   "id": "e3aee6d7-0dd3-47bf-9a6a-774226bed9b4",
   "metadata": {},
   "source": [
    "diffrence between method in a class and function is that we need to call method using dot operator(ex- student.rollno)."
   ]
  },
  {
   "cell_type": "code",
   "execution_count": null,
   "id": "18a18c5e-0a71-4d81-a336-e9d8106e7368",
   "metadata": {},
   "outputs": [],
   "source": [
    "class student:\n",
    "    roll_no = 101\n",
    "    num1 = 50\n",
    "    num2 = 100\n",
    "\n",
    "    def add(self):\n",
    "        print(self.num1+self.num2)\n",
    "        self.name = input(\"ENter your name:\")\n",
    "        print(self.name)\n",
    "\n",
    "obj = student() #creating object\n",
    "obj.add() #calling function\n",
    "print(obj.roll_no)\n",
    "    "
   ]
  },
  {
   "cell_type": "code",
   "execution_count": 2,
   "id": "e82fb837-e45e-42d0-ab83-eef8b6d8c2af",
   "metadata": {},
   "outputs": [
    {
     "name": "stdout",
     "output_type": "stream",
     "text": [
      "my name is constructor and i always execute first\n",
      "<__main__.newclass object at 0x0000015B34354440>\n",
      "Welcome to class level programing\n",
      "my name is constructor and i always execute first\n"
     ]
    }
   ],
   "source": [
    "#Constructor is a special type of method. It calls automatically when we create a object.\n",
    "class newclass:\n",
    "    def __init__(self):\n",
    "        print('my name is constructor and i always execute first')\n",
    "    def show(self):\n",
    "        print(\"Welcome to class level programing\")\n",
    "obj = newclass()\n",
    "print(obj)\n",
    "obj.show()\n",
    "obj2 = newclass()\n"
   ]
  },
  {
   "cell_type": "code",
   "execution_count": 4,
   "id": "e5a834a2-f629-4410-8a68-0831647e50fd",
   "metadata": {},
   "outputs": [
    {
     "name": "stdout",
     "output_type": "stream",
     "text": [
      "My name is: durvesh karalkar\n",
      "My age is: 53\n",
      "My emp ID is: 1001\n"
     ]
    }
   ],
   "source": [
    "class hod:\n",
    "    def __init__(self):\n",
    "        self.name = 'durvesh karalkar'\n",
    "        self.age = 53\n",
    "        self.empid = 1001\n",
    "    def info(self):\n",
    "        print(\"My name is:\",self.name)\n",
    "        print(\"My age is:\",self.age)\n",
    "        print(\"My emp ID is:\",self.empid)\n",
    "obj = hod()\n",
    "obj.info()"
   ]
  },
  {
   "cell_type": "code",
   "execution_count": 6,
   "id": "ae4c9e80-523d-4314-ab13-9225497f4a43",
   "metadata": {},
   "outputs": [
    {
     "name": "stdout",
     "output_type": "stream",
     "text": [
      "My name is: arjun\n",
      "My age is: 45\n",
      "My emp ID is: 101\n"
     ]
    }
   ],
   "source": [
    "class hod:\n",
    "    def __init__(self,name,age,roll_no):\n",
    "        self.name = name\n",
    "        self.age = age\n",
    "        self.roll_no = roll_no\n",
    "    def show(self):\n",
    "        print(\"My name is:\",self.name)\n",
    "        print(\"My age is:\",self.age)\n",
    "        print(\"My emp ID is:\",self.roll_no)\n",
    "obj = hod('arjun',45,101)\n",
    "obj.show()"
   ]
  },
  {
   "cell_type": "markdown",
   "id": "c3524c46-8c02-4d01-9d9b-31bd4e79c025",
   "metadata": {},
   "source": [
    "variable inside a object constructed using self is a instance variable\n",
    "it is dependednt on the state of object\n",
    "it creates diffrent memory for each and every object"
   ]
  },
  {
   "cell_type": "code",
   "execution_count": 10,
   "id": "1e9be25f-f0b7-4b27-ac34-bf0761fe815e",
   "metadata": {},
   "outputs": [
    {
     "name": "stdout",
     "output_type": "stream",
     "text": [
      "{'name': 'durvesh', 'roll_no': 19, 's_mb': 2882828828, 's_branch': 'cs'}\n",
      "2882828828\n",
      "{'name': 'durvesh', 's_mb': 2882828828, 's_branch': 'cs'}\n"
     ]
    }
   ],
   "source": [
    "class student:\n",
    "    def __init__(self):\n",
    "        self.name = 'durvesh'\n",
    "        self.roll_no = 19\n",
    "    def getdata(self):\n",
    "        self.s_mb = 2882828828\n",
    "obj =student()\n",
    "obj.getdata() # if you comment this you won't get output for obj.s_mb as it has not being called and memory is not being allocated\n",
    "obj.s_branch = 'cs'\n",
    "print(obj.__dict__)\n",
    "print(obj.s_mb)\n",
    "del obj.roll_no\n",
    "print(obj.__dict__)"
   ]
  },
  {
   "cell_type": "code",
   "execution_count": 11,
   "id": "88bc3190-cf20-4278-9f18-3ea3ae4743a6",
   "metadata": {},
   "outputs": [
    {
     "name": "stdout",
     "output_type": "stream",
     "text": [
      "principal =  Mordern College .... prashant\n",
      "teacher =  Mordern College .... prashant\n",
      "accountant =  Mordern College .... prashant\n",
      "principal =  HBD | Durvesh\n",
      "teacher =  HBD | prashant\n",
      "accountant =  HBD | prashant\n"
     ]
    }
   ],
   "source": [
    "class college:\n",
    "    college = \"Mordern College\"\n",
    "    def __init__(self):\n",
    "        self.studentname = 'prashant'\n",
    "    \n",
    "principal = college()\n",
    "accountant = college()\n",
    "teacher = college()\n",
    "\n",
    "print(\"principal = \",principal.college,\"....\",principal.studentname)\n",
    "print(\"teacher = \",teacher.college,\"....\",teacher.studentname)\n",
    "print(\"accountant = \",accountant.college,\"....\",accountant.studentname)\n",
    "college.college = \"HBD\"\n",
    "principal.studentname = \"Durvesh\"\n",
    "print(\"principal = \",principal.college,\"|\",principal.studentname)\n",
    "print(\"teacher = \",teacher.college,\"|\",teacher.studentname)\n",
    "print(\"accountant = \",accountant.college,\"|\",accountant.studentname)\n"
   ]
  },
  {
   "cell_type": "code",
   "execution_count": 12,
   "id": "dd88d540-d4a2-41c5-9a25-1ec02df21baf",
   "metadata": {},
   "outputs": [
    {
     "name": "stdout",
     "output_type": "stream",
     "text": [
      "principal =  Mordern College .... prashant\n",
      "teacher =  Mordern College .... prashant\n",
      "accountant =  Mordern College .... prashant\n"
     ]
    }
   ],
   "source": [
    "class college:\n",
    "    def __init__(self):\n",
    "        self.studentname = 'prashant'\n",
    "        college.college = \"Mordern College\"\n",
    "    \n",
    "principal = college()\n",
    "accountant = college()\n",
    "teacher = college()\n",
    "\n",
    "print(\"principal = \",principal.college,\"....\",principal.studentname)\n",
    "print(\"teacher = \",teacher.college,\"....\",teacher.studentname)\n",
    "print(\"accountant = \",accountant.college,\"....\",accountant.studentname)"
   ]
  },
  {
   "cell_type": "code",
   "execution_count": 21,
   "id": "cf7b2202-5d96-41e0-9cd6-9701c803638f",
   "metadata": {},
   "outputs": [
    {
     "name": "stdout",
     "output_type": "stream",
     "text": [
      "Your details= durvesh kk\n",
      "contact detail= 545454545454 1001\n"
     ]
    }
   ],
   "source": [
    "#static method\n",
    "class student:\n",
    "    @staticmethod\n",
    "    def get_personal_detail(f_name,l_name):\n",
    "        print(\"Your details=\",f_name,l_name)\n",
    "\n",
    "    @staticmethod\n",
    "    def contact_detail(mob,roll_no):\n",
    "        print(\"contact detail=\",mob,roll_no)\n",
    "\n",
    "student.get_personal_detail(\"durvesh\",\"kk\")\n",
    "student.contact_detail(545454545454,1001)"
   ]
  },
  {
   "cell_type": "code",
   "execution_count": 22,
   "id": "a3cc6264-028c-4897-9520-788b8722b664",
   "metadata": {},
   "outputs": [
    {
     "name": "stdout",
     "output_type": "stream",
     "text": [
      "True\n",
      "False\n",
      "True\n"
     ]
    }
   ],
   "source": [
    "import gc\n",
    "print(gc.isenabled())\n",
    "gc.disable()\n",
    "print(gc.isenabled())\n",
    "gc.enable()\n",
    "print(gc.isenabled())"
   ]
  },
  {
   "cell_type": "markdown",
   "id": "5cfe4274-6327-44b5-8045-a480689cbd47",
   "metadata": {},
   "source": [
    "<h2 style = \"color:green;text-align:center\"><b>Inheritance in python</b></h2>"
   ]
  },
  {
   "cell_type": "code",
   "execution_count": 24,
   "id": "7f3c6c98-6731-4135-bb9d-669e74eb27cd",
   "metadata": {},
   "outputs": [
    {
     "name": "stdout",
     "output_type": "stream",
     "text": [
      "modern college\n",
      "Name: Durvesh\n",
      "Branch: Data Science\n"
     ]
    }
   ],
   "source": [
    "class college:\n",
    "    def college_name(self):\n",
    "        print(\"modern college\")\n",
    "class student(college):\n",
    "    def student_info(self):\n",
    "        print(\"Name: Durvesh\")\n",
    "        print(\"Branch: Data Science\")\n",
    "obj = student()\n",
    "obj.college_name()\n",
    "obj.student_info()"
   ]
  },
  {
   "cell_type": "code",
   "execution_count": 25,
   "id": "500b68a3-4d56-47e1-9514-88cb1c9aaaac",
   "metadata": {},
   "outputs": [
    {
     "name": "stdout",
     "output_type": "stream",
     "text": [
      "modern college\n",
      "Name: Durvesh\n",
      "Branch: Data Science\n",
      "Subject1: Design Engineering\n",
      "Subject1: CAD\n"
     ]
    }
   ],
   "source": [
    "class college:\n",
    "    def college_name(self):\n",
    "        print(\"modern college\")\n",
    "\n",
    "class student(college):\n",
    "    def student_info(self):\n",
    "        print(\"Name: Durvesh\")\n",
    "        print(\"Branch: Data Science\")\n",
    "\n",
    "class exam(student):\n",
    "    def subject(self):\n",
    "        print(\"Subject1: Design Engineering\")\n",
    "        print(\"Subject1: CAD\")\n",
    "\n",
    "obj = exam()\n",
    "obj.college_name()\n",
    "obj.student_info()\n",
    "obj.subject()"
   ]
  },
  {
   "cell_type": "code",
   "execution_count": 31,
   "id": "011b2d51-9958-4498-9f51-864127e963b9",
   "metadata": {},
   "outputs": [
    {
     "name": "stdin",
     "output_type": "stream",
     "text": [
      "enter math marks 45\n",
      "enter python marks 45\n",
      "enter c programing marks 23\n",
      "enter the marks of c practical 45\n"
     ]
    },
    {
     "name": "stdout",
     "output_type": "stream",
     "text": [
      "fail\n"
     ]
    }
   ],
   "source": [
    "class submark:\n",
    "    math = int(input(\"enter math marks\"))\n",
    "    python = int(input(\"enter python marks\"))\n",
    "    c = int(input(\"enter c programing marks\"))\n",
    "\n",
    "class prac:\n",
    "    cprac = int(input(\"enter the marks of c practical\"))\n",
    "\n",
    "class result(submark,prac):\n",
    "    def total(self):\n",
    "        if self.math >= 40 and self.python >= 40 and self.cprac >= 20 and self.c >= 40 :\n",
    "            print(\"pass\")\n",
    "        else:\n",
    "            print(\"fail\")\n",
    "\n",
    "dur = result()\n",
    "dur.total()"
   ]
  },
  {
   "cell_type": "code",
   "execution_count": 1,
   "id": "4e73129b-3962-4bba-929a-e8345b190415",
   "metadata": {},
   "outputs": [
    {
     "ename": "TypeError",
     "evalue": "arithemetic.add() missing 2 required positional arguments: 'b' and 'c'",
     "output_type": "error",
     "traceback": [
      "\u001b[1;31m---------------------------------------------------------------------------\u001b[0m",
      "\u001b[1;31mTypeError\u001b[0m                                 Traceback (most recent call last)",
      "Cell \u001b[1;32mIn[1], line 9\u001b[0m\n\u001b[0;32m      7\u001b[0m         \u001b[38;5;28mprint\u001b[39m(a\u001b[38;5;241m+\u001b[39mb\u001b[38;5;241m+\u001b[39mc)\n\u001b[0;32m      8\u001b[0m obj \u001b[38;5;241m=\u001b[39m arithemetic()\n\u001b[1;32m----> 9\u001b[0m \u001b[43mobj\u001b[49m\u001b[38;5;241;43m.\u001b[39;49m\u001b[43madd\u001b[49m\u001b[43m(\u001b[49m\u001b[38;5;241;43m10\u001b[39;49m\u001b[43m)\u001b[49m\n\u001b[0;32m     10\u001b[0m obj\u001b[38;5;241m.\u001b[39madd(\u001b[38;5;241m10\u001b[39m,\u001b[38;5;241m20\u001b[39m)\n\u001b[0;32m     11\u001b[0m obj\u001b[38;5;241m.\u001b[39madd(\u001b[38;5;241m1\u001b[39m,\u001b[38;5;241m2\u001b[39m,\u001b[38;5;241m3\u001b[39m)\n",
      "\u001b[1;31mTypeError\u001b[0m: arithemetic.add() missing 2 required positional arguments: 'b' and 'c'"
     ]
    }
   ],
   "source": [
    "class arithemetic:\n",
    "    def add(self,a):\n",
    "        print(a)\n",
    "    def add(self,a,b):\n",
    "        print(a+b)\n",
    "    def add(self,a,b,c):\n",
    "        print(a+b+c)\n",
    "obj = arithemetic()\n",
    "obj.add(10)\n",
    "obj.add(10,20)\n",
    "obj.add(1,2,3)\n",
    "\n"
   ]
  },
  {
   "cell_type": "code",
   "execution_count": 5,
   "id": "7818473c-261a-46fe-8c00-fbe18a5cf35a",
   "metadata": {},
   "outputs": [
    {
     "name": "stdout",
     "output_type": "stream",
     "text": [
      "Enter atleast two arguments\n",
      "30\n",
      "3\n"
     ]
    }
   ],
   "source": [
    "class arithemetic:\n",
    "    def add(self,a = None,b = None,c = None):\n",
    "        if a != None and b != None:\n",
    "           print(a+b)\n",
    "        elif a != None and b != None and c != None:\n",
    "            print(a+b+c)\n",
    "        else:\n",
    "           print(\"Enter atleast two arguments\")\n",
    "obj = arithemetic()\n",
    "obj.add(10)\n",
    "obj.add(10,20)\n",
    "obj.add(1,2,3)\n"
   ]
  },
  {
   "cell_type": "code",
   "execution_count": 7,
   "id": "848cce0d-b00e-475c-929e-444ea6112209",
   "metadata": {},
   "outputs": [
    {
     "ename": "TypeError",
     "evalue": "arithemetic.__init__() missing 2 required positional arguments: 'a' and 'b'",
     "output_type": "error",
     "traceback": [
      "\u001b[1;31m---------------------------------------------------------------------------\u001b[0m",
      "\u001b[1;31mTypeError\u001b[0m                                 Traceback (most recent call last)",
      "Cell \u001b[1;32mIn[7], line 9\u001b[0m\n\u001b[0;32m      6\u001b[0m     \u001b[38;5;28;01mdef\u001b[39;00m \u001b[38;5;21m__init__\u001b[39m(\u001b[38;5;28mself\u001b[39m,a,b):\n\u001b[0;32m      7\u001b[0m         \u001b[38;5;28mprint\u001b[39m(\u001b[38;5;124m\"\u001b[39m\u001b[38;5;124mpassing two arguments\u001b[39m\u001b[38;5;124m\"\u001b[39m)\n\u001b[1;32m----> 9\u001b[0m obj \u001b[38;5;241m=\u001b[39m \u001b[43marithemetic\u001b[49m\u001b[43m(\u001b[49m\u001b[43m)\u001b[49m\n\u001b[0;32m     10\u001b[0m obj\u001b[38;5;241m.\u001b[39madd(\u001b[38;5;241m10\u001b[39m)\n\u001b[0;32m     11\u001b[0m obj\u001b[38;5;241m.\u001b[39madd(\u001b[38;5;241m10\u001b[39m,\u001b[38;5;241m20\u001b[39m)\n",
      "\u001b[1;31mTypeError\u001b[0m: arithemetic.__init__() missing 2 required positional arguments: 'a' and 'b'"
     ]
    }
   ],
   "source": [
    "class arithemetic:\n",
    "    def __init__(self):\n",
    "           print(\"There is no argument\")\n",
    "    def __init__(self,a):\n",
    "        print(\"Passing one argiment\")\n",
    "    def __init__(self,a,b):\n",
    "        print(\"passing two arguments\")\n",
    "        \n",
    "obj = arithemetic()\n",
    "obj.add(10)\n",
    "obj.add(10,20)\n",
    "\n"
   ]
  },
  {
   "cell_type": "markdown",
   "id": "d142aea8-b250-4fab-ac08-e13669c52710",
   "metadata": {},
   "source": [
    "#### Method Overrriding"
   ]
  },
  {
   "cell_type": "code",
   "execution_count": 9,
   "id": "69c23e5b-ba23-4d1d-ae94-084fa47803fc",
   "metadata": {},
   "outputs": [
    {
     "name": "stdout",
     "output_type": "stream",
     "text": [
      "Homeloan ROI 6.5%\n",
      "car loan ROI 8%\n"
     ]
    }
   ],
   "source": [
    "class rbi:\n",
    "    def homeloan(self):\n",
    "        print(\"home loan ROI 7.5%\")\n",
    "    def carloan(self):\n",
    "        print(\"car loan ROI 8%\")\n",
    "\n",
    "class sbi(rbi):\n",
    "    def homeloan(self):\n",
    "        print(\"Homeloan ROI 6.5%\")\n",
    "\n",
    "obj = sbi()\n",
    "obj.homeloan()\n",
    "obj.carloan()"
   ]
  },
  {
   "cell_type": "code",
   "execution_count": 11,
   "id": "b45fd266-95bb-46b1-9c10-3e0278c540aa",
   "metadata": {},
   "outputs": [
    {
     "name": "stdout",
     "output_type": "stream",
     "text": [
      "Homeloan ROI 6.5%\n",
      "home loan ROI 7.5%\n",
      "car loan ROI 8%\n"
     ]
    }
   ],
   "source": [
    "# by using super you can access the parent class method in childclass insted of overriding\n",
    "\n",
    "class rbi:\n",
    "    def homeloan(self):\n",
    "        print(\"home loan ROI 7.5%\")\n",
    "    def carloan(self):\n",
    "        print(\"car loan ROI 8%\")\n",
    "\n",
    "class sbi(rbi):\n",
    "    def homeloan(self):\n",
    "        print(\"Homeloan ROI 6.5%\")\n",
    "        super().homeloan()\n",
    "\n",
    "obj = sbi()\n",
    "obj.homeloan()\n",
    "obj.carloan()"
   ]
  },
  {
   "cell_type": "markdown",
   "id": "2dc7e498-eb89-46a5-8973-93dc884a6325",
   "metadata": {},
   "source": [
    "### Constructor Overrriding"
   ]
  },
  {
   "cell_type": "code",
   "execution_count": 16,
   "id": "5c6fe97f-7870-4978-9564-ad9389de2c54",
   "metadata": {},
   "outputs": [
    {
     "name": "stdout",
     "output_type": "stream",
     "text": [
      "Child:I will be late for breakfast\n"
     ]
    }
   ],
   "source": [
    "class father:\n",
    "    def __init__(self):\n",
    "        print(\"Father: I will be at the dinner table\")\n",
    "\n",
    "class child(father):\n",
    "    def __init__(self):\n",
    "        print(\"Child:I will be late for breakfast\")\n",
    "\n",
    "obj = child()"
   ]
  },
  {
   "cell_type": "code",
   "execution_count": 19,
   "id": "7366eda5-3f91-407e-9386-eb6734cf1f06",
   "metadata": {},
   "outputs": [
    {
     "name": "stdout",
     "output_type": "stream",
     "text": [
      "Child:I will be late for breakfast\n"
     ]
    },
    {
     "ename": "TypeError",
     "evalue": "descriptor '__init__' of 'super' object needs an argument",
     "output_type": "error",
     "traceback": [
      "\u001b[1;31m---------------------------------------------------------------------------\u001b[0m",
      "\u001b[1;31mTypeError\u001b[0m                                 Traceback (most recent call last)",
      "Cell \u001b[1;32mIn[19], line 10\u001b[0m\n\u001b[0;32m      7\u001b[0m         \u001b[38;5;28mprint\u001b[39m(\u001b[38;5;124m\"\u001b[39m\u001b[38;5;124mChild:I will be late for breakfast\u001b[39m\u001b[38;5;124m\"\u001b[39m)\n\u001b[0;32m      8\u001b[0m         \u001b[38;5;28msuper\u001b[39m\u001b[38;5;241m.\u001b[39m\u001b[38;5;21m__init__\u001b[39m()  \u001b[38;5;66;03m#using super method we can call parent class constructor\u001b[39;00m\n\u001b[1;32m---> 10\u001b[0m obj \u001b[38;5;241m=\u001b[39m \u001b[43mchild\u001b[49m\u001b[43m(\u001b[49m\u001b[43m)\u001b[49m\n",
      "Cell \u001b[1;32mIn[19], line 8\u001b[0m, in \u001b[0;36mchild.__init__\u001b[1;34m(self)\u001b[0m\n\u001b[0;32m      6\u001b[0m \u001b[38;5;28;01mdef\u001b[39;00m \u001b[38;5;21m__init__\u001b[39m(\u001b[38;5;28mself\u001b[39m):\n\u001b[0;32m      7\u001b[0m     \u001b[38;5;28mprint\u001b[39m(\u001b[38;5;124m\"\u001b[39m\u001b[38;5;124mChild:I will be late for breakfast\u001b[39m\u001b[38;5;124m\"\u001b[39m)\n\u001b[1;32m----> 8\u001b[0m     \u001b[38;5;28;43msuper\u001b[39;49m\u001b[38;5;241;43m.\u001b[39;49m\u001b[38;5;21;43m__init__\u001b[39;49m\u001b[43m(\u001b[49m\u001b[43m)\u001b[49m\n",
      "\u001b[1;31mTypeError\u001b[0m: descriptor '__init__' of 'super' object needs an argument"
     ]
    }
   ],
   "source": [
    "class father:\n",
    "    def __init__(self):\n",
    "        print(\"Father: I will be at the dinner table\")\n",
    "\n",
    "class child(father):\n",
    "    def __init__(self):\n",
    "        print(\"Child:I will be late for breakfast\")\n",
    "        super.__init__()  #using super method we can call parent class constructor\n",
    "\n",
    "obj = child()"
   ]
  },
  {
   "cell_type": "code",
   "execution_count": 24,
   "id": "fa3bc25e-1536-44d4-8033-0fa14f451a40",
   "metadata": {},
   "outputs": [
    {
     "name": "stdin",
     "output_type": "stream",
     "text": [
      "ENter the number of rows: 5\n"
     ]
    },
    {
     "name": "stdout",
     "output_type": "stream",
     "text": [
      "A B C D E \n",
      "A B C D \n",
      "A B C \n",
      "A B \n",
      "A \n"
     ]
    }
   ],
   "source": [
    "n = int(input(\"ENter the number of rows:\"))\n",
    "for i in range(1,n+1):\n",
    "    for j in range(1,n+2-i):\n",
    "        print(chr(64+j),end = \" \")\n",
    "    print()"
   ]
  },
  {
   "cell_type": "code",
   "execution_count": 25,
   "id": "ba02b2bd-7732-477e-adfc-43a80013a7ea",
   "metadata": {},
   "outputs": [
    {
     "name": "stdin",
     "output_type": "stream",
     "text": [
      "ENter the number of rows: 5\n"
     ]
    },
    {
     "name": "stdout",
     "output_type": "stream",
     "text": [
      "5 4 3 2 1 \n",
      "5 4 3 2 \n",
      "5 4 3 \n",
      "5 4 \n",
      "5 \n"
     ]
    }
   ],
   "source": [
    "n = int(input(\"ENter the number of rows:\"))\n",
    "for i in range(1,n+1):\n",
    "    for j in range(1,n+2-i):\n",
    "        print(n+1-j,end = \" \")\n",
    "    print()"
   ]
  },
  {
   "cell_type": "code",
   "execution_count": 26,
   "id": "9f7e3a29-9cc6-4fdd-b453-9b4aa2d8dcf9",
   "metadata": {},
   "outputs": [
    {
     "name": "stdin",
     "output_type": "stream",
     "text": [
      "ENter the number of rows: 5\n"
     ]
    },
    {
     "name": "stdout",
     "output_type": "stream",
     "text": [
      "B C D E F \n",
      "B C D E \n",
      "B C D \n",
      "B C \n",
      "B \n"
     ]
    }
   ],
   "source": [
    "n = int(input(\"ENter the number of rows:\"))\n",
    "for i in range(1,n+1):\n",
    "    for j in range(1,n+2-i):\n",
    "        print(chr(65+j),end = \" \")\n",
    "    print()"
   ]
  },
  {
   "cell_type": "code",
   "execution_count": 28,
   "id": "d20f75b1-3d2b-473e-b068-8feaadf3070a",
   "metadata": {},
   "outputs": [
    {
     "name": "stdin",
     "output_type": "stream",
     "text": [
      "ENter the number of rows: 5\n"
     ]
    },
    {
     "name": "stdout",
     "output_type": "stream",
     "text": [
      "     *\n",
      "    **\n",
      "   ***\n",
      "  ****\n",
      " *****\n"
     ]
    }
   ],
   "source": [
    "n = int(input(\"ENter the number of rows:\"))\n",
    "for i in range(1,n+1):\n",
    "    print(\" \"*(n-i),\"*\"*i)"
   ]
  },
  {
   "cell_type": "code",
   "execution_count": 34,
   "id": "1982e934-9476-4a73-8ad6-c6c63c0872be",
   "metadata": {},
   "outputs": [
    {
     "name": "stdin",
     "output_type": "stream",
     "text": [
      "enter the number of rows: 5\n"
     ]
    },
    {
     "name": "stdout",
     "output_type": "stream",
     "text": [
      "  * \n",
      "   * * \n",
      "    * * * \n",
      "     * * * * \n",
      "      * * * * * \n"
     ]
    }
   ],
   "source": [
    "import time\n",
    "n = int(input(\"enter the number of rows:\"))\n",
    "for i in range(1,n+1):\n",
    "    print(\" \"*i, end = \" \")\n",
    "    for j in range(1, i + 1):\n",
    "        time.sleep(1)\n",
    "        print(\"*\",end = \" \")\n",
    "    print()"
   ]
  },
  {
   "cell_type": "code",
   "execution_count": 36,
   "id": "d68963ff-0555-40e3-85fc-1540dab30623",
   "metadata": {},
   "outputs": [
    {
     "name": "stdin",
     "output_type": "stream",
     "text": [
      "enter the number of rows: 5\n"
     ]
    },
    {
     "name": "stdout",
     "output_type": "stream",
     "text": [
      "     1 \n",
      "    1 2 \n",
      "   1 2 3 \n",
      "  1 2 3 4 \n",
      " 1 2 3 4 5 \n"
     ]
    }
   ],
   "source": [
    "n = int(input(\"enter the number of rows:\"))\n",
    "for i in range(1,n+1):\n",
    "    print(\" \"*(n-i), end = \" \")\n",
    "    for j in range(1, i + 1):\n",
    "        print(j,end = \" \")\n",
    "    print()"
   ]
  },
  {
   "cell_type": "code",
   "execution_count": 37,
   "id": "ceed8ea8-cea8-4fa9-b43c-c8616d4418c1",
   "metadata": {},
   "outputs": [
    {
     "name": "stdin",
     "output_type": "stream",
     "text": [
      "enter the number of rows: 5\n"
     ]
    },
    {
     "name": "stdout",
     "output_type": "stream",
     "text": [
      "     A \n",
      "    B B \n",
      "   C C C \n",
      "  D D D D \n",
      " E E E E E \n"
     ]
    }
   ],
   "source": [
    "n = int(input(\"enter the number of rows:\"))\n",
    "for i in range(1,n+1):\n",
    "    print(\" \"*(n-i), end = \" \")\n",
    "    for j in range(1, i + 1):\n",
    "        print(chr(64+i),end = \" \")\n",
    "    print()"
   ]
  },
  {
   "cell_type": "code",
   "execution_count": 38,
   "id": "6b760add-7350-44dd-b7e9-fcbb633fdde1",
   "metadata": {},
   "outputs": [
    {
     "name": "stdin",
     "output_type": "stream",
     "text": [
      "enter the number of rows: 5\n"
     ]
    },
    {
     "name": "stdout",
     "output_type": "stream",
     "text": [
      "     A A A A A \n",
      "    B B B B \n",
      "   C C C \n",
      "  D D \n",
      " E \n"
     ]
    }
   ],
   "source": [
    "n = int(input(\"enter the number of rows:\"))\n",
    "for i in range(1,n+1):\n",
    "    print(\" \"*(n-i), end = \" \")\n",
    "    for j in range(1, n + 2-i):\n",
    "        print(chr(64+i),end = \" \")\n",
    "    print()"
   ]
  },
  {
   "cell_type": "code",
   "execution_count": 47,
   "id": "6c35a124-8ca0-44a2-bc95-bd7615e2bbff",
   "metadata": {},
   "outputs": [
    {
     "name": "stdin",
     "output_type": "stream",
     "text": [
      "Enter the numeric data 777\n"
     ]
    },
    {
     "name": "stdout",
     "output_type": "stream",
     "text": [
      "1\n"
     ]
    }
   ],
   "source": [
    "inp = input(\"Enter the numeric data\")\n",
    "digit_counts = {}\n",
    "repeat_count = 0\n",
    "\n",
    "for digit in inp:\n",
    "        if digit in digit_counts:\n",
    "            digit_counts[digit] += 1\n",
    "        else:\n",
    "            digit_counts[digit] = 1\n",
    "\n",
    "for count in digit_counts.values():\n",
    "    if count > 1:\n",
    "        repeat_count += 1\n",
    "\n",
    "print(repeat_count)"
   ]
  },
  {
   "cell_type": "code",
   "execution_count": 49,
   "id": "29cdd60c-933f-467b-836e-07468eb53f79",
   "metadata": {},
   "outputs": [
    {
     "name": "stdin",
     "output_type": "stream",
     "text": [
      "Enter the numeric data 777\n"
     ]
    },
    {
     "name": "stdout",
     "output_type": "stream",
     "text": [
      "2\n"
     ]
    }
   ],
   "source": [
    "#doesn't work for more than 2 repetitions of numbers\n",
    "\n",
    "# inp = input(\"Enter the numeric data\")\n",
    "# num = 0\n",
    "# count = 0\n",
    "# for i in range(0,len(inp)-1):\n",
    "#     for j in range(i,len(inp)-1):\n",
    "#         if inp[i] == inp[j]:\n",
    "#             count += 1 \n",
    "#     if count >= 2:\n",
    "#         num += 1\n",
    "\n",
    "# print(num)"
   ]
  },
  {
   "cell_type": "code",
   "execution_count": null,
   "id": "54f51d47-6622-4e07-9856-dc2ce677cd0f",
   "metadata": {},
   "outputs": [],
   "source": []
  }
 ],
 "metadata": {
  "kernelspec": {
   "display_name": "Python 3 (ipykernel)",
   "language": "python",
   "name": "python3"
  },
  "language_info": {
   "codemirror_mode": {
    "name": "ipython",
    "version": 3
   },
   "file_extension": ".py",
   "mimetype": "text/x-python",
   "name": "python",
   "nbconvert_exporter": "python",
   "pygments_lexer": "ipython3",
   "version": "3.13.1"
  }
 },
 "nbformat": 4,
 "nbformat_minor": 5
}
