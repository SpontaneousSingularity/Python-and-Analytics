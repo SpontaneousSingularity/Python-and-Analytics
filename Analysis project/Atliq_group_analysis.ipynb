{
 "cells": [
  {
   "cell_type": "markdown",
   "id": "6f8bc119-3548-464e-b648-7109dd0f7aab",
   "metadata": {},
   "source": [
    "<h1 style = \"color: green; text-align:center\"><u>Atliq Hospitality Analysis</u></h1>"
   ]
  },
  {
   "cell_type": "markdown",
   "id": "4626563c-eaa9-497e-9de2-2161d11736fd",
   "metadata": {},
   "source": [
    "<br>"
   ]
  },
  {
   "cell_type": "markdown",
   "id": "36ffe64c-4093-45ff-b586-7f126e7310e8",
   "metadata": {},
   "source": [
    "This is analysis of sales data from Atliq group, the data was taken from the website <a href = \"https://codebasics.io/challenge/codebasics-resume-project-challenge\">Code Basics</a> Website."
   ]
  },
  {
   "cell_type": "markdown",
   "id": "c525cef8-6dd6-4152-8018-95470a941f8b",
   "metadata": {},
   "source": [
    "The data consists of 5 files:\n",
    "* fact_bookings\n",
    "* fact_aggregated_bookings\n",
    "* dim_rooms\n",
    "* dim_hotels\n",
    "* dim_date"
   ]
  },
  {
   "cell_type": "markdown",
   "id": "f5aab527-7624-4e42-a8da-a7f434351258",
   "metadata": {},
   "source": [
    "---"
   ]
  },
  {
   "cell_type": "markdown",
   "id": "2df5fabf-7815-4961-ad25-1397ebd52d55",
   "metadata": {},
   "source": [
    "**Importing Python Libraries**"
   ]
  },
  {
   "cell_type": "code",
   "execution_count": 1,
   "id": "11198ca8-0a9c-43f2-bd07-507ba7e8384d",
   "metadata": {},
   "outputs": [],
   "source": [
    "import pandas as pd\n",
    "from matplotlib import pyplot as plt\n",
    "import seaborn as sns"
   ]
  },
  {
   "cell_type": "markdown",
   "id": "7b9c882a-9a7a-4442-a25a-a55ec1b1ca8c",
   "metadata": {},
   "source": [
    "<br>"
   ]
  },
  {
   "cell_type": "markdown",
   "id": "098b0511-098f-4b7c-a5ac-1572544bd3c9",
   "metadata": {},
   "source": [
    "**loading files as dataframes**"
   ]
  },
  {
   "cell_type": "code",
   "execution_count": 2,
   "id": "bad46865-1ff1-488c-819f-2a6167e49a7f",
   "metadata": {},
   "outputs": [],
   "source": [
    "fact_booking = pd.read_csv(\"./datasets/fact_bookings.csv\")\n",
    "agregate_booking = pd.read_csv(\"./datasets/fact_aggregated_bookings.csv\")\n",
    "room_type = pd.read_csv(\"./datasets/dim_rooms.csv\")\n",
    "hotel_info = pd.read_clipboard(\"./datasets/dim_hotels.csv\")"
   ]
  },
  {
   "cell_type": "markdown",
   "id": "4c7a8ac1-32ad-46bb-813e-cea0e581a05f",
   "metadata": {},
   "source": [
    "---"
   ]
  },
  {
   "cell_type": "markdown",
   "id": "ae90e893-57c5-44cf-a29b-924f5c7e8ac1",
   "metadata": {},
   "source": [
    "## **1. <u>Data Exploration</u>** "
   ]
  },
  {
   "cell_type": "markdown",
   "id": "cfbade72-16e6-4caf-9de5-5f1a89ea6b57",
   "metadata": {},
   "source": [
    "<br>"
   ]
  },
  {
   "cell_type": "markdown",
   "id": "1cb84635-3268-4660-96c1-4479354be571",
   "metadata": {},
   "source": [
    "**1. Exploring fact_booking**"
   ]
  },
  {
   "cell_type": "code",
   "execution_count": 3,
   "id": "8b77d9cc-f86c-431d-943a-6e8fdde23cdb",
   "metadata": {},
   "outputs": [
    {
     "name": "stdout",
     "output_type": "stream",
     "text": [
      "<class 'pandas.core.frame.DataFrame'>\n",
      "RangeIndex: 134590 entries, 0 to 134589\n",
      "Data columns (total 12 columns):\n",
      " #   Column             Non-Null Count   Dtype  \n",
      "---  ------             --------------   -----  \n",
      " 0   booking_id         134590 non-null  object \n",
      " 1   property_id        134590 non-null  int64  \n",
      " 2   booking_date       134590 non-null  object \n",
      " 3   check_in_date      134590 non-null  object \n",
      " 4   checkout_date      134590 non-null  object \n",
      " 5   no_guests          134590 non-null  int64  \n",
      " 6   room_category      134590 non-null  object \n",
      " 7   booking_platform   134590 non-null  object \n",
      " 8   ratings_given      56683 non-null   float64\n",
      " 9   booking_status     134590 non-null  object \n",
      " 10  revenue_generated  134590 non-null  int64  \n",
      " 11  revenue_realized   134590 non-null  int64  \n",
      "dtypes: float64(1), int64(4), object(7)\n",
      "memory usage: 12.3+ MB\n"
     ]
    }
   ],
   "source": [
    "fact_booking.info()"
   ]
  },
  {
   "cell_type": "code",
   "execution_count": 4,
   "id": "423e0cfb-4675-47e7-b91f-30bcf2a98540",
   "metadata": {},
   "outputs": [
    {
     "data": {
      "text/html": [
       "<div>\n",
       "<style scoped>\n",
       "    .dataframe tbody tr th:only-of-type {\n",
       "        vertical-align: middle;\n",
       "    }\n",
       "\n",
       "    .dataframe tbody tr th {\n",
       "        vertical-align: top;\n",
       "    }\n",
       "\n",
       "    .dataframe thead th {\n",
       "        text-align: right;\n",
       "    }\n",
       "</style>\n",
       "<table border=\"1\" class=\"dataframe\">\n",
       "  <thead>\n",
       "    <tr style=\"text-align: right;\">\n",
       "      <th></th>\n",
       "      <th>booking_id</th>\n",
       "      <th>property_id</th>\n",
       "      <th>booking_date</th>\n",
       "      <th>check_in_date</th>\n",
       "      <th>checkout_date</th>\n",
       "      <th>no_guests</th>\n",
       "      <th>room_category</th>\n",
       "      <th>booking_platform</th>\n",
       "      <th>ratings_given</th>\n",
       "      <th>booking_status</th>\n",
       "      <th>revenue_generated</th>\n",
       "      <th>revenue_realized</th>\n",
       "    </tr>\n",
       "  </thead>\n",
       "  <tbody>\n",
       "    <tr>\n",
       "      <th>0</th>\n",
       "      <td>May012216558RT11</td>\n",
       "      <td>16558</td>\n",
       "      <td>2022-04-27</td>\n",
       "      <td>2022-05-01</td>\n",
       "      <td>2022-05-02</td>\n",
       "      <td>3</td>\n",
       "      <td>RT1</td>\n",
       "      <td>direct online</td>\n",
       "      <td>1.0</td>\n",
       "      <td>Checked Out</td>\n",
       "      <td>10010</td>\n",
       "      <td>10010</td>\n",
       "    </tr>\n",
       "    <tr>\n",
       "      <th>1</th>\n",
       "      <td>May012216558RT12</td>\n",
       "      <td>16558</td>\n",
       "      <td>2022-04-30</td>\n",
       "      <td>2022-05-01</td>\n",
       "      <td>2022-05-02</td>\n",
       "      <td>2</td>\n",
       "      <td>RT1</td>\n",
       "      <td>others</td>\n",
       "      <td>NaN</td>\n",
       "      <td>Cancelled</td>\n",
       "      <td>9100</td>\n",
       "      <td>3640</td>\n",
       "    </tr>\n",
       "    <tr>\n",
       "      <th>2</th>\n",
       "      <td>May012216558RT13</td>\n",
       "      <td>16558</td>\n",
       "      <td>2022-04-28</td>\n",
       "      <td>2022-05-01</td>\n",
       "      <td>2022-05-04</td>\n",
       "      <td>2</td>\n",
       "      <td>RT1</td>\n",
       "      <td>logtrip</td>\n",
       "      <td>5.0</td>\n",
       "      <td>Checked Out</td>\n",
       "      <td>9100</td>\n",
       "      <td>9100</td>\n",
       "    </tr>\n",
       "    <tr>\n",
       "      <th>3</th>\n",
       "      <td>May012216558RT14</td>\n",
       "      <td>16558</td>\n",
       "      <td>2022-04-28</td>\n",
       "      <td>2022-05-01</td>\n",
       "      <td>2022-05-02</td>\n",
       "      <td>2</td>\n",
       "      <td>RT1</td>\n",
       "      <td>others</td>\n",
       "      <td>NaN</td>\n",
       "      <td>Cancelled</td>\n",
       "      <td>9100</td>\n",
       "      <td>3640</td>\n",
       "    </tr>\n",
       "    <tr>\n",
       "      <th>4</th>\n",
       "      <td>May012216558RT15</td>\n",
       "      <td>16558</td>\n",
       "      <td>2022-04-27</td>\n",
       "      <td>2022-05-01</td>\n",
       "      <td>2022-05-02</td>\n",
       "      <td>4</td>\n",
       "      <td>RT1</td>\n",
       "      <td>direct online</td>\n",
       "      <td>5.0</td>\n",
       "      <td>Checked Out</td>\n",
       "      <td>10920</td>\n",
       "      <td>10920</td>\n",
       "    </tr>\n",
       "  </tbody>\n",
       "</table>\n",
       "</div>"
      ],
      "text/plain": [
       "         booking_id  property_id booking_date check_in_date checkout_date  \\\n",
       "0  May012216558RT11        16558   2022-04-27    2022-05-01    2022-05-02   \n",
       "1  May012216558RT12        16558   2022-04-30    2022-05-01    2022-05-02   \n",
       "2  May012216558RT13        16558   2022-04-28    2022-05-01    2022-05-04   \n",
       "3  May012216558RT14        16558   2022-04-28    2022-05-01    2022-05-02   \n",
       "4  May012216558RT15        16558   2022-04-27    2022-05-01    2022-05-02   \n",
       "\n",
       "   no_guests room_category booking_platform  ratings_given booking_status  \\\n",
       "0          3           RT1    direct online            1.0    Checked Out   \n",
       "1          2           RT1           others            NaN      Cancelled   \n",
       "2          2           RT1          logtrip            5.0    Checked Out   \n",
       "3          2           RT1           others            NaN      Cancelled   \n",
       "4          4           RT1    direct online            5.0    Checked Out   \n",
       "\n",
       "   revenue_generated  revenue_realized  \n",
       "0              10010             10010  \n",
       "1               9100              3640  \n",
       "2               9100              9100  \n",
       "3               9100              3640  \n",
       "4              10920             10920  "
      ]
     },
     "execution_count": 4,
     "metadata": {},
     "output_type": "execute_result"
    }
   ],
   "source": [
    "fact_booking.head()"
   ]
  },
  {
   "cell_type": "code",
   "execution_count": 5,
   "id": "99484c4d-bb1e-4e9d-b9ae-24565035e89d",
   "metadata": {},
   "outputs": [
    {
     "data": {
      "text/html": [
       "<div>\n",
       "<style scoped>\n",
       "    .dataframe tbody tr th:only-of-type {\n",
       "        vertical-align: middle;\n",
       "    }\n",
       "\n",
       "    .dataframe tbody tr th {\n",
       "        vertical-align: top;\n",
       "    }\n",
       "\n",
       "    .dataframe thead th {\n",
       "        text-align: right;\n",
       "    }\n",
       "</style>\n",
       "<table border=\"1\" class=\"dataframe\">\n",
       "  <thead>\n",
       "    <tr style=\"text-align: right;\">\n",
       "      <th></th>\n",
       "      <th>property_id</th>\n",
       "      <th>no_guests</th>\n",
       "      <th>ratings_given</th>\n",
       "      <th>revenue_generated</th>\n",
       "      <th>revenue_realized</th>\n",
       "    </tr>\n",
       "  </thead>\n",
       "  <tbody>\n",
       "    <tr>\n",
       "      <th>count</th>\n",
       "      <td>134590.000000</td>\n",
       "      <td>134590.000000</td>\n",
       "      <td>56683.000000</td>\n",
       "      <td>134590.000000</td>\n",
       "      <td>134590.000000</td>\n",
       "    </tr>\n",
       "    <tr>\n",
       "      <th>mean</th>\n",
       "      <td>18061.113493</td>\n",
       "      <td>2.036808</td>\n",
       "      <td>3.619004</td>\n",
       "      <td>14916.013188</td>\n",
       "      <td>12696.123256</td>\n",
       "    </tr>\n",
       "    <tr>\n",
       "      <th>std</th>\n",
       "      <td>1093.055847</td>\n",
       "      <td>1.031766</td>\n",
       "      <td>1.235009</td>\n",
       "      <td>6452.868072</td>\n",
       "      <td>6928.108124</td>\n",
       "    </tr>\n",
       "    <tr>\n",
       "      <th>min</th>\n",
       "      <td>16558.000000</td>\n",
       "      <td>1.000000</td>\n",
       "      <td>1.000000</td>\n",
       "      <td>6500.000000</td>\n",
       "      <td>2600.000000</td>\n",
       "    </tr>\n",
       "    <tr>\n",
       "      <th>25%</th>\n",
       "      <td>17558.000000</td>\n",
       "      <td>1.000000</td>\n",
       "      <td>3.000000</td>\n",
       "      <td>9900.000000</td>\n",
       "      <td>7600.000000</td>\n",
       "    </tr>\n",
       "    <tr>\n",
       "      <th>50%</th>\n",
       "      <td>17564.000000</td>\n",
       "      <td>2.000000</td>\n",
       "      <td>4.000000</td>\n",
       "      <td>13500.000000</td>\n",
       "      <td>11700.000000</td>\n",
       "    </tr>\n",
       "    <tr>\n",
       "      <th>75%</th>\n",
       "      <td>18563.000000</td>\n",
       "      <td>2.000000</td>\n",
       "      <td>5.000000</td>\n",
       "      <td>18000.000000</td>\n",
       "      <td>15300.000000</td>\n",
       "    </tr>\n",
       "    <tr>\n",
       "      <th>max</th>\n",
       "      <td>19563.000000</td>\n",
       "      <td>6.000000</td>\n",
       "      <td>5.000000</td>\n",
       "      <td>45220.000000</td>\n",
       "      <td>45220.000000</td>\n",
       "    </tr>\n",
       "  </tbody>\n",
       "</table>\n",
       "</div>"
      ],
      "text/plain": [
       "         property_id      no_guests  ratings_given  revenue_generated  \\\n",
       "count  134590.000000  134590.000000   56683.000000      134590.000000   \n",
       "mean    18061.113493       2.036808       3.619004       14916.013188   \n",
       "std      1093.055847       1.031766       1.235009        6452.868072   \n",
       "min     16558.000000       1.000000       1.000000        6500.000000   \n",
       "25%     17558.000000       1.000000       3.000000        9900.000000   \n",
       "50%     17564.000000       2.000000       4.000000       13500.000000   \n",
       "75%     18563.000000       2.000000       5.000000       18000.000000   \n",
       "max     19563.000000       6.000000       5.000000       45220.000000   \n",
       "\n",
       "       revenue_realized  \n",
       "count     134590.000000  \n",
       "mean       12696.123256  \n",
       "std         6928.108124  \n",
       "min         2600.000000  \n",
       "25%         7600.000000  \n",
       "50%        11700.000000  \n",
       "75%        15300.000000  \n",
       "max        45220.000000  "
      ]
     },
     "execution_count": 5,
     "metadata": {},
     "output_type": "execute_result"
    }
   ],
   "source": [
    "fact_booking.describe()"
   ]
  },
  {
   "cell_type": "code",
   "execution_count": 6,
   "id": "d555df1a-b18d-4eca-8b40-2713b07e78e6",
   "metadata": {},
   "outputs": [
    {
     "data": {
      "text/plain": [
       "array([16558, 16559, 16560, 16561, 16562, 16563, 17558, 17559, 17560,\n",
       "       17561, 17562, 17563, 18558, 18559, 18560, 18561, 18562, 18563,\n",
       "       19558, 19559, 19560, 19561, 19562, 19563, 17564])"
      ]
     },
     "execution_count": 6,
     "metadata": {},
     "output_type": "execute_result"
    }
   ],
   "source": [
    "fact_booking.property_id.unique()"
   ]
  },
  {
   "cell_type": "code",
   "execution_count": 7,
   "id": "3f98facd-afd4-4e21-af68-529bd567d569",
   "metadata": {},
   "outputs": [
    {
     "data": {
      "text/plain": [
       "booking_platform\n",
       "others            55066\n",
       "makeyourtrip      26898\n",
       "logtrip           14756\n",
       "direct online     13379\n",
       "tripster           9630\n",
       "journey            8106\n",
       "direct offline     6755\n",
       "Name: count, dtype: int64"
      ]
     },
     "execution_count": 7,
     "metadata": {},
     "output_type": "execute_result"
    }
   ],
   "source": [
    "fact_booking.booking_platform.value_counts()"
   ]
  },
  {
   "cell_type": "code",
   "execution_count": 10,
   "id": "c46e0a55-f33f-4693-b333-ee0a824678c9",
   "metadata": {},
   "outputs": [
    {
     "data": {
      "text/plain": [
       "<Axes: xlabel='booking_platform'>"
      ]
     },
     "execution_count": 10,
     "metadata": {},
     "output_type": "execute_result"
    },
    {
     "data": {
      "image/png": "[encoded data removed]",
      "text/plain": [
       "<Figure size 1000x600 with 1 Axes>"
      ]
     },
     "metadata": {},
     "output_type": "display_data"
    }
   ],
   "source": [
    "fact_booking.booking_platform.value_counts().plot(kind = \"bar\",rot = 0,figsize = (10,6))"
   ]
  },
  {
   "cell_type": "code",
   "execution_count": 17,
   "id": "eacda84a-42bd-4aad-be7f-65e2b0ba9616",
   "metadata": {},
   "outputs": [
    {
     "data": {
      "image/png": "[encoded data removed]",
      "text/plain": [
       "<Figure size 800x400 with 1 Axes>"
      ]
     },
     "metadata": {},
     "output_type": "display_data"
    }
   ],
   "source": [
    "booking_counts = fact_booking.booking_platform.value_counts()\n",
    "\n",
    "\n",
    "plt.figure(figsize=(8, 4),) \n",
    "plt.bar(booking_counts.index, booking_counts.values)  \n",
    "plt.xlabel('Booking Platform')  \n",
    "plt.ylabel('Count')  \n",
    "plt.title('Booking Platform Distribution') \n",
    "plt.xticks(rotation=0)  \n",
    "plt.show()"
   ]
  }
 ],
 "metadata": {
  "kernelspec": {
   "display_name": "Python 3 (ipykernel)",
   "language": "python",
   "name": "python3"
  },
  "language_info": {
   "codemirror_mode": {
    "name": "ipython",
    "version": 3
   },
   "file_extension": ".py",
   "mimetype": "text/x-python",
   "name": "python",
   "nbconvert_exporter": "python",
   "pygments_lexer": "ipython3",
   "version": "3.13.1"
  }
 },
 "nbformat": 4,
 "nbformat_minor": 5
}
