{
 "cells": [
  {
   "cell_type": "markdown",
   "id": "9ca246f4-a43a-4276-bc66-3214cba4cee4",
   "metadata": {},
   "source": [
    "<h1 style=\"color:blue; text-align:center;\">File Handling In Python </h1>"
   ]
  },
  {
   "cell_type": "markdown",
   "id": "014ab16e-5cd7-4c5c-a127-4c15ad52eb7e",
   "metadata": {},
   "source": [
    "<h2 style=\"color:orange\">Read Mode</h2> "
   ]
  },
  {
   "cell_type": "code",
   "execution_count": 1,
   "id": "2bd6810e-70f7-4cdf-8d63-e81316d5ef71",
   "metadata": {},
   "outputs": [
    {
     "name": "stdout",
     "output_type": "stream",
     "text": [
      "hello Guys\n",
      "\n",
      "Today is a good day\n",
      "\n"
     ]
    }
   ],
   "source": [
    "f = open(\"demo.txt\",\"r\")\n",
    "for line in f:\n",
    "    print(line)\n",
    "\n",
    "f.close()"
   ]
  },
  {
   "cell_type": "code",
   "execution_count": 2,
   "id": "d435d596-8145-4f6e-983c-5c821cdf27eb",
   "metadata": {},
   "outputs": [
    {
     "name": "stdout",
     "output_type": "stream",
     "text": [
      "hello Guys\n",
      "\n",
      "Today is a good day\n",
      "\n"
     ]
    }
   ],
   "source": [
    "with open(\"demo.txt\",\"r\") as f:\n",
    "    for line in f:\n",
    "        print(line)"
   ]
  },
  {
   "cell_type": "code",
   "execution_count": 3,
   "id": "fdd4d0a6-305b-4c74-bdf7-f7b180579d7c",
   "metadata": {},
   "outputs": [
    {
     "name": "stdout",
     "output_type": "stream",
     "text": [
      "['hello Guys\\n', 'Today is a good day\\n']\n",
      "<class 'list'>\n",
      "hello Guys\n",
      "\n",
      "Today is a good day\n",
      "\n"
     ]
    }
   ],
   "source": [
    "with open(\"demo.txt\",\"r\") as f:\n",
    "    lines = f.readlines()\n",
    "    print(lines)\n",
    "    print(type(lines))\n",
    "    for line in lines:\n",
    "        print(line)"
   ]
  },
  {
   "cell_type": "code",
   "execution_count": 4,
   "id": "78c31ffd-463d-4808-8d32-3f19f082353d",
   "metadata": {},
   "outputs": [
    {
     "name": "stdout",
     "output_type": "stream",
     "text": [
      "Name: Pranjal Sharma\n",
      "\n",
      "Age: 30\n"
     ]
    }
   ],
   "source": [
    "try:\n",
    "    with open(\"student.txt\",\"r\") as f:\n",
    "        for line in f:\n",
    "            print(line)\n",
    "except Exception as e:\n",
    "    print(e)"
   ]
  },
  {
   "cell_type": "markdown",
   "id": "7dc79da4-8ff9-44fd-a701-13313036d490",
   "metadata": {},
   "source": [
    "<h2 style=\"color:#578E7E\">Write Mode</h2>"
   ]
  },
  {
   "cell_type": "code",
   "execution_count": 5,
   "id": "30ba4ff0-e2ee-4134-a8c9-f9a949bdba36",
   "metadata": {},
   "outputs": [
    {
     "name": "stdout",
     "output_type": "stream",
     "text": [
      "Data saved successfully\n"
     ]
    }
   ],
   "source": [
    "with open(\"student.txt\",\"w\") as f:\n",
    "    f.write(\"Hello Students\")\n",
    "    print(\"Data saved successfully\")    "
   ]
  },
  {
   "cell_type": "code",
   "execution_count": 6,
   "id": "70b4df50-994c-47e1-805f-5c664857e32b",
   "metadata": {},
   "outputs": [
    {
     "name": "stdout",
     "output_type": "stream",
     "text": [
      "Data saved successfully\n"
     ]
    }
   ],
   "source": [
    "with open(\"student.txt\",\"w\") as f:\n",
    "    f.write(\"Name: Pranjal Sharma\")\n",
    "    print(\"Data saved successfully\")    "
   ]
  },
  {
   "cell_type": "code",
   "execution_count": 7,
   "id": "e8dcb766-69ca-49a5-87ba-80349ef1eb8f",
   "metadata": {},
   "outputs": [
    {
     "name": "stdout",
     "output_type": "stream",
     "text": [
      "Data saved successfully\n"
     ]
    }
   ],
   "source": [
    "with open(\"student.txt\",\"a\") as f:\n",
    "    f.write(\"\\nAge: 30\")\n",
    "    print(\"Data saved successfully\")    "
   ]
  },
  {
   "cell_type": "markdown",
   "id": "e2d1fb39-9d48-4f3e-be51-a41e463d6fbf",
   "metadata": {},
   "source": [
    "<h2 style=\"color:green\">Reading CSV File </h2> "
   ]
  },
  {
   "cell_type": "code",
   "execution_count": 8,
   "id": "6abfc563-75da-4c02-8c65-3e6f910b06df",
   "metadata": {},
   "outputs": [
    {
     "name": "stdout",
     "output_type": "stream",
     "text": [
      "Rohan,English,59\n",
      "\n",
      "Pranjal,Maths,45\n",
      "\n",
      "Rohan,Maths,35\n",
      "\n",
      "Pratik,English,40\n",
      "\n",
      "Rohan,History,85\n",
      "\n",
      "Pranjal,English,48\n",
      "\n",
      "Pranjal,History,36\n",
      "\n",
      "Pratik,Maths,85\n",
      "\n",
      "Pratik,History,28\n",
      "\n",
      "Pranjal,Marathi,88\n"
     ]
    }
   ],
   "source": [
    "try:\n",
    "    with open(\"students.csv\",\"r\") as file:\n",
    "        for line in file:\n",
    "            print(line)\n",
    "except Exception as e:\n",
    "    print(e)"
   ]
  },
  {
   "cell_type": "code",
   "execution_count": 13,
   "id": "541f567b-7c60-4299-ad2c-fcfa610237c1",
   "metadata": {},
   "outputs": [
    {
     "name": "stdout",
     "output_type": "stream",
     "text": [
      "Rohan,English,59\n",
      "\n",
      "Name:Rohan, Subject:English, Marks:59\n",
      "\n",
      "Pranjal,Maths,45\n",
      "\n",
      "Name:Pranjal, Subject:Maths, Marks:45\n",
      "\n",
      "Rohan,Maths,35\n",
      "\n",
      "Name:Rohan, Subject:Maths, Marks:35\n",
      "\n",
      "Pratik,English,40\n",
      "\n",
      "Name:Pratik, Subject:English, Marks:40\n",
      "\n",
      "Rohan,History,85\n",
      "\n",
      "Name:Rohan, Subject:History, Marks:85\n",
      "\n",
      "Pranjal,English,48\n",
      "\n",
      "Name:Pranjal, Subject:English, Marks:48\n",
      "\n",
      "Pranjal,History,36\n",
      "\n",
      "Name:Pranjal, Subject:History, Marks:36\n",
      "\n",
      "Pratik,Maths,85\n",
      "\n",
      "Name:Pratik, Subject:Maths, Marks:85\n",
      "\n",
      "Pratik,History,28\n",
      "\n",
      "Name:Pratik, Subject:History, Marks:28\n",
      "\n",
      "Pranjal,Marathi,88\n",
      "Name:Pranjal, Subject:Marathi, Marks:88\n"
     ]
    }
   ],
   "source": [
    "try:\n",
    "    with open(\"students.csv\",\"r\") as file:\n",
    "        for line in file:\n",
    "            print(line)\n",
    "            name, subject, marks = line.split(\",\")\n",
    "            print(f\"Name:{name}, Subject:{subject}, Marks:{marks}\")\n",
    "except Exception as e:\n",
    "    print(e)"
   ]
  },
  {
   "cell_type": "code",
   "execution_count": 14,
   "id": "cea41ed2-4c85-4e11-ac6e-24df29502a82",
   "metadata": {},
   "outputs": [
    {
     "name": "stdout",
     "output_type": "stream",
     "text": [
      "Rohan,English,59\n",
      "\n",
      "Name:Rohan, Subject:English, Marks:59\n",
      "\n",
      "Pranjal,Maths,45\n",
      "\n",
      "Name:Pranjal, Subject:Maths, Marks:45\n",
      "\n",
      "Rohan,Maths,35\n",
      "\n",
      "Name:Rohan, Subject:Maths, Marks:35\n",
      "\n",
      "Pratik,English,40\n",
      "\n",
      "Name:Pratik, Subject:English, Marks:40\n",
      "\n",
      "Rohan,History,85\n",
      "\n",
      "Name:Rohan, Subject:History, Marks:85\n",
      "\n",
      "Pranjal,English,48\n",
      "\n",
      "Name:Pranjal, Subject:English, Marks:48\n",
      "\n",
      "Pranjal,History,36\n",
      "\n",
      "Name:Pranjal, Subject:History, Marks:36\n",
      "\n",
      "Pratik,Maths,85\n",
      "\n",
      "Name:Pratik, Subject:Maths, Marks:85\n",
      "\n",
      "Pratik,History,28\n",
      "\n",
      "Name:Pratik, Subject:History, Marks:28\n",
      "\n",
      "Pranjal,Marathi,88\n",
      "Name:Pranjal, Subject:Marathi, Marks:88\n"
     ]
    }
   ],
   "source": [
    "try:\n",
    "    with open(\"students.csv\",\"r\") as file:\n",
    "        for line in file:\n",
    "            print(line)\n",
    "            name, subject, marks = line.split(\",\")\n",
    "            print(f\"Name:{name}, Subject:{subject}, Marks:{marks}\")\n",
    "except Exception as e:\n",
    "    print(e)"
   ]
  },
  {
   "cell_type": "code",
   "execution_count": 28,
   "id": "2b5a93aa-57c5-4ef6-b4f4-947137d8d7b3",
   "metadata": {},
   "outputs": [
    {
     "name": "stdout",
     "output_type": "stream",
     "text": [
      "{'Rohan': [59, 35, 85], 'Pranjal': [45, 48, 36, 88], 'Pratik': [40, 85, 28]} \n",
      "\n",
      " Student:Rohan\n",
      " average:59.67\n",
      " max:85\n",
      " min: 35\n",
      "\n",
      " Student:Pranjal\n",
      " average:54.25\n",
      " max:88\n",
      " min: 36\n",
      "\n",
      " Student:Pratik\n",
      " average:51.0\n",
      " max:85\n",
      " min: 28\n",
      "\n"
     ]
    }
   ],
   "source": [
    "try:\n",
    "    with open(\"students.csv\", \"r\") as file:\n",
    "        student_data = {}\n",
    "        for line in file:\n",
    "            name, subjects, marks = line.split(\",\")\n",
    "            if (name in student_data):\n",
    "                student_data[name].append(int(marks))\n",
    "            else:\n",
    "                student_data[name] = [int(marks)]\n",
    "                \n",
    "        print(student_data,\"\\n\")\n",
    "\n",
    "        for name, marks in student_data.items():\n",
    "            average= round(sum(marks)/len(marks),2)\n",
    "            max_marks= max(marks)\n",
    "            min_marks= min(marks)\n",
    "            print(f\" Student:{name}\\n average:{average}\\n max:{max_marks}\\n min: {min_marks}\\n\")\n",
    "        \n",
    "except Exception as e:\n",
    "    print(e)"
   ]
  },
  {
   "cell_type": "code",
   "execution_count": 31,
   "id": "23d4d5b8-fb42-4039-b1ab-f09a791b99b5",
   "metadata": {},
   "outputs": [
    {
     "name": "stdout",
     "output_type": "stream",
     "text": [
      "Data Saved\n"
     ]
    }
   ],
   "source": [
    "with open (\"temp.txt\",\"w\")as f:\n",
    "    f.write(\"Hello Temp world\")\n",
    "    print(\"Data Saved\")"
   ]
  },
  {
   "cell_type": "code",
   "execution_count": 34,
   "id": "ddc66eaa-243f-475d-8ca0-f9d21a3645c1",
   "metadata": {},
   "outputs": [
    {
     "name": "stdout",
     "output_type": "stream",
     "text": [
      "File Deleted\n"
     ]
    }
   ],
   "source": [
    "import os\n",
    "if os.path.exists(\"Temp.txt\"):\n",
    "    os.remove(\"Temp.txt\")\n",
    "    print(\"File Deleted\")\n",
    "else:\n",
    "    print(\"File doesn't exist\")"
   ]
  }
 ],
 "metadata": {
  "kernelspec": {
   "display_name": "Python 3 (ipykernel)",
   "language": "python",
   "name": "python3"
  },
  "language_info": {
   "codemirror_mode": {
    "name": "ipython",
    "version": 3
   },
   "file_extension": ".py",
   "mimetype": "text/x-python",
   "name": "python",
   "nbconvert_exporter": "python",
   "pygments_lexer": "ipython3",
   "version": "3.13.1"
  }
 },
 "nbformat": 4,
 "nbformat_minor": 5
}
