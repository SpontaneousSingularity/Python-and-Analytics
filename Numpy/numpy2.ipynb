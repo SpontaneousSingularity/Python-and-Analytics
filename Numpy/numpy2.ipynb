{
 "cells": [
  {
   "cell_type": "markdown",
   "id": "69c6de2a-3f16-415a-9374-eb5ec65db12b",
   "metadata": {},
   "source": [
    "<h1 style = \"color:Grey\">Numpy Intro Day 2</h1> "
   ]
  },
  {
   "cell_type": "code",
   "execution_count": 1,
   "id": "cc81b19e-9628-4533-ad3b-fe92fd58224e",
   "metadata": {},
   "outputs": [],
   "source": [
    "import numpy as np\n",
    "import time"
   ]
  },
  {
   "cell_type": "code",
   "execution_count": 10,
   "id": "78a5aa4f-fca0-4cc3-a67c-5e4e8aabf700",
   "metadata": {},
   "outputs": [
    {
     "name": "stdout",
     "output_type": "stream",
     "text": [
      "list1:range(0, 5)\n",
      "list2:range(0, 5)\n",
      "Sum List: [0, 2, 4, 6, 8]\n",
      "Time take to complete the addition operation is 705.7356834411621\n"
     ]
    }
   ],
   "source": [
    "MAX = 1000000\n",
    "list1 = (range(MAX))\n",
    "list2 = (range(MAX))\n",
    "\n",
    "print(f\"list1:{list1[:5]}\")\n",
    "print(f\"list2:{list2[:5]}\")\n",
    "sum_list=[]\n",
    "i=0\n",
    "start_time= time.time()\n",
    "while i<len(list1):\n",
    "    sum_list.append(list1[i]+list2[i])\n",
    "    i = i + 1\n",
    "end_time = time.time()\n",
    "# sum_list = list1+list2\n",
    "print(f\"Sum List: {sum_list[:5]}\")\n",
    "print(f\"Time take to complete the addition operation is {(end_time-start_time)*1000}\")"
   ]
  },
  {
   "cell_type": "code",
   "execution_count": 7,
   "id": "dca75259-c2a1-4e86-88c8-13f16b74ead2",
   "metadata": {},
   "outputs": [
    {
     "name": "stdout",
     "output_type": "stream",
     "text": [
      "Array 1: [0 1 2 3 4]\n",
      "Array 2: [0 1 2 3 4]\n",
      "Sum Array: [0 2 4 6 8]\n",
      "Time take to complete the addition operation is 6.4296722412109375\n"
     ]
    }
   ],
   "source": [
    "MAX = 1000000\n",
    "\n",
    "arr1 = np.arange(MAX)\n",
    "arr2 = np.arange(MAX)\n",
    "\n",
    "\n",
    "print(f\"Array 1: {arr1[:5]}\")\n",
    "print(f\"Array 2: {arr2[:5]}\")\n",
    "\n",
    "start_time = time.time()\n",
    "sum_arr = arr1+arr2\n",
    "end_time = time.time()\n",
    "print(f\"Sum Array: {sum_arr[:5]}\")\n",
    "print(f\"Time take to complete the addition operation is {(end_time-start_time)*1000}\")"
   ]
  },
  {
   "cell_type": "code",
   "execution_count": 11,
   "id": "6cf4e5d6-ca1d-4475-adc6-dbe365cae24a",
   "metadata": {},
   "outputs": [
    {
     "name": "stdout",
     "output_type": "stream",
     "text": [
      "<zip object at 0x000002C09B08CA80>\n",
      "((5, 9), (4, 10), (9, 12))\n",
      " 5,9 = 14\n",
      " 4,10 = 14\n",
      " 9,12 = 21\n"
     ]
    }
   ],
   "source": [
    "list1 = [5,4,9]\n",
    "list2 = [9,10,12]\n",
    "new_data = zip(list1,list2)\n",
    "print(new_data)\n",
    "print(tuple(new_data))\n",
    "\n",
    "for x,y in zip(list1,list2):\n",
    "    print(f\" {x},{y} = {x+y}\")\n",
    "    "
   ]
  },
  {
   "cell_type": "code",
   "execution_count": 12,
   "id": "09afc82b-aee2-4e48-9ff3-5e8313d07db0",
   "metadata": {},
   "outputs": [
    {
     "name": "stdout",
     "output_type": "stream",
     "text": [
      "<zip object at 0x000002C09B08F6C0>\n",
      "((5, 9), (4, 10), (9, 12))\n",
      "[14, 14, 21]\n"
     ]
    }
   ],
   "source": [
    "list1 = [5,4,9]\n",
    "list2 = [9,10,12]\n",
    "new_data = zip(list1,list2)\n",
    "print(new_data)\n",
    "print(tuple(new_data))\n",
    "\n",
    "new_list =[x+y for x,y in zip(list1,list2)]\n",
    "print(new_list)"
   ]
  },
  {
   "cell_type": "code",
   "execution_count": 14,
   "id": "e04bccd2-7c50-41bd-a141-ed4f11d2541a",
   "metadata": {},
   "outputs": [
    {
     "name": "stdout",
     "output_type": "stream",
     "text": [
      "list1:range(0, 5)\n",
      "list2:range(0, 5)\n",
      "Sum List: [0, 2, 4, 6, 8]\n",
      "Time take to complete the addition operation is 186.722993850708\n"
     ]
    }
   ],
   "source": [
    "MAX = 1000000\n",
    "list1 = (range(MAX))\n",
    "list2 = (range(MAX))\n",
    "\n",
    "print(f\"list1:{list1[:5]}\")\n",
    "print(f\"list2:{list2[:5]}\")\n",
    "i=0\n",
    "\n",
    "start_time= time.time()\n",
    "new_list =[x+y for x,y in zip(list1,list2)]\n",
    "end_time = time.time()\n",
    "\n",
    "\n",
    "print(f\"Sum List: {new_list[:5]}\")\n",
    "print(f\"Time take to complete the addition operation is {(end_time-start_time)*1000}\")"
   ]
  }
 ],
 "metadata": {
  "kernelspec": {
   "display_name": "Python 3 (ipykernel)",
   "language": "python",
   "name": "python3"
  },
  "language_info": {
   "codemirror_mode": {
    "name": "ipython",
    "version": 3
   },
   "file_extension": ".py",
   "mimetype": "text/x-python",
   "name": "python",
   "nbconvert_exporter": "python",
   "pygments_lexer": "ipython3",
   "version": "3.13.1"
  }
 },
 "nbformat": 4,
 "nbformat_minor": 5
}
