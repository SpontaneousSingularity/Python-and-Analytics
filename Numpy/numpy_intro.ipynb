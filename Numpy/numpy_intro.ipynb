{
 "cells": [
  {
   "cell_type": "markdown",
   "id": "61c0091d-1a23-4a37-93af-65b0f8f5eda1",
   "metadata": {},
   "source": [
    "<h1 style = \"color:Grey\"><b><u>Numpy Intro</u></b></h1> "
   ]
  },
  {
   "cell_type": "raw",
   "id": "24015607-b421-4258-a43f-7f93712be816",
   "metadata": {},
   "source": [
    "<br>"
   ]
  },
  {
   "cell_type": "code",
   "execution_count": 1,
   "id": "78488add-5088-444d-b3e6-221ae58f0a7b",
   "metadata": {},
   "outputs": [],
   "source": [
    "import numpy as np\n",
    "import sys"
   ]
  },
  {
   "cell_type": "code",
   "execution_count": 2,
   "id": "bd51c934-0d44-4e13-bfa5-cf6a850269bc",
   "metadata": {
    "jupyter": {
     "source_hidden": true
    }
   },
   "outputs": [
    {
     "name": "stdout",
     "output_type": "stream",
     "text": [
      "[5 7 9]\n",
      "<class 'numpy.ndarray'>\n"
     ]
    }
   ],
   "source": [
    "array = np.array([5,7,9])\n",
    "print(array)\n",
    "print(type(array))"
   ]
  },
  {
   "cell_type": "code",
   "execution_count": 3,
   "id": "aa03667a-29f8-4f2e-ae1f-9d7dfb3e32d3",
   "metadata": {},
   "outputs": [
    {
     "name": "stdout",
     "output_type": "stream",
     "text": [
      "[1, 2, 3, 4, 5]\n",
      "99\n",
      "SIze of each element in list is 28 bytes\n",
      "size of whole list is 856 bytes\n"
     ]
    }
   ],
   "source": [
    "my_list = list(range(1,100))\n",
    "print(my_list[:5])\n",
    "print(len(my_list))\n",
    "print(f\"SIze of each element in list is {sys.getsizeof(my_list[0])} bytes\")\n",
    "print(f\"size of whole list is {sys.getsizeof(my_list)} bytes\")\n"
   ]
  },
  {
   "cell_type": "code",
   "execution_count": null,
   "id": "72feacb8-2534-4012-af9d-3fa297f81c1c",
   "metadata": {},
   "outputs": [],
   "source": [
    "arr = np.array(range(1,100))\n",
    "print(arr[:5])"
   ]
  },
  {
   "cell_type": "code",
   "execution_count": null,
   "id": "7b39c330-a3a0-42e9-917b-b35bfa9a30b0",
   "metadata": {},
   "outputs": [],
   "source": []
  }
 ],
 "metadata": {
  "kernelspec": {
   "display_name": "Python 3 (ipykernel)",
   "language": "python",
   "name": "python3"
  },
  "language_info": {
   "codemirror_mode": {
    "name": "ipython",
    "version": 3
   },
   "file_extension": ".py",
   "mimetype": "text/x-python",
   "name": "python",
   "nbconvert_exporter": "python",
   "pygments_lexer": "ipython3",
   "version": "3.13.1"
  }
 },
 "nbformat": 4,
 "nbformat_minor": 5
}
