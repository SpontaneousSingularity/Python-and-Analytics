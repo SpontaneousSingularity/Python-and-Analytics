{
 "cells": [
  {
   "cell_type": "markdown",
   "id": "48e18ede-47ac-4207-8661-4c2f126e368c",
   "metadata": {},
   "source": [
    "<h1 style = 'color:blue'><b><u>Slicing and Stacking</u><</b></h1>"
   ]
  },
  {
   "cell_type": "markdown",
   "id": "aae286f6-c2c8-4731-8b45-9bbc9b0d6272",
   "metadata": {},
   "source": [
    "<br>"
   ]
  },
  {
   "cell_type": "markdown",
   "id": "ba83448a-430b-4db2-ad17-354c154c8f68",
   "metadata": {},
   "source": [
    "# Slicing\n"
   ]
  },
  {
   "cell_type": "code",
   "execution_count": 1,
   "id": "a04ff31f-5f45-448d-a832-4ef4c453a4a3",
   "metadata": {},
   "outputs": [],
   "source": [
    "import numpy as np\n"
   ]
  },
  {
   "cell_type": "code",
   "execution_count": 2,
   "id": "14d76e74-61e5-4f8c-ad65-7a7ec374c29e",
   "metadata": {},
   "outputs": [
    {
     "data": {
      "text/plain": [
       "array([ 2,  8, 16, 35, -6, -5])"
      ]
     },
     "execution_count": 2,
     "metadata": {},
     "output_type": "execute_result"
    }
   ],
   "source": [
    "arr = np.array([2,8,16,35,-6,-5])\n",
    "arr"
   ]
  },
  {
   "cell_type": "code",
   "execution_count": 3,
   "id": "762f08aa-db94-40e2-b8ef-cdeecb947d4f",
   "metadata": {},
   "outputs": [
    {
     "data": {
      "text/plain": [
       "1"
      ]
     },
     "execution_count": 3,
     "metadata": {},
     "output_type": "execute_result"
    }
   ],
   "source": [
    "arr.ndim\n"
   ]
  },
  {
   "cell_type": "code",
   "execution_count": 4,
   "id": "07b08a97-7f5d-4a68-bc80-b3ebfc6c6a89",
   "metadata": {},
   "outputs": [
    {
     "data": {
      "text/plain": [
       "np.int64(35)"
      ]
     },
     "execution_count": 4,
     "metadata": {},
     "output_type": "execute_result"
    }
   ],
   "source": [
    "arr[3]\n"
   ]
  },
  {
   "cell_type": "code",
   "execution_count": 5,
   "id": "f152c211-3626-461b-927f-6b99776c8abe",
   "metadata": {},
   "outputs": [
    {
     "data": {
      "text/plain": [
       "array([ 8, 16, 35])"
      ]
     },
     "execution_count": 5,
     "metadata": {},
     "output_type": "execute_result"
    }
   ],
   "source": [
    "arr[1:4]"
   ]
  },
  {
   "cell_type": "code",
   "execution_count": 6,
   "id": "da5ecd05-cebe-413d-82d7-6ee6cab8ec2b",
   "metadata": {},
   "outputs": [
    {
     "data": {
      "text/plain": [
       "array([ 2, 16, -6])"
      ]
     },
     "execution_count": 6,
     "metadata": {},
     "output_type": "execute_result"
    }
   ],
   "source": [
    "arr[::2]"
   ]
  },
  {
   "cell_type": "code",
   "execution_count": 7,
   "id": "1a035a62-1ed6-436b-8dbf-20206a5591da",
   "metadata": {},
   "outputs": [
    {
     "data": {
      "text/plain": [
       "array([[ 2, 80, 16, 45, -3],\n",
       "       [ 8, 90, -6, -3, 18],\n",
       "       [-1, -3, -5, 32, 48],\n",
       "       [ 8, 12, -9, -6, -3]])"
      ]
     },
     "execution_count": 7,
     "metadata": {},
     "output_type": "execute_result"
    }
   ],
   "source": [
    "arr = np.array(\n",
    "    [\n",
    "        [2,80,16,45,-3],\n",
    "        [8,90,-6,-3,18],\n",
    "        [-1,-3,-5,32,48],\n",
    "        [8,12,-9,-6,-3]\n",
    "    ]\n",
    ")\n",
    "arr"
   ]
  },
  {
   "cell_type": "code",
   "execution_count": 8,
   "id": "a2186328-4b3f-43c1-bd78-2bcb78d816e0",
   "metadata": {},
   "outputs": [
    {
     "data": {
      "text/plain": [
       "2"
      ]
     },
     "execution_count": 8,
     "metadata": {},
     "output_type": "execute_result"
    }
   ],
   "source": [
    "arr.ndim"
   ]
  },
  {
   "cell_type": "code",
   "execution_count": 9,
   "id": "18f4da69-4b0d-4c1f-ab87-1f047f417e75",
   "metadata": {},
   "outputs": [
    {
     "data": {
      "text/plain": [
       "array([-1, -3, -5, 32, 48])"
      ]
     },
     "execution_count": 9,
     "metadata": {},
     "output_type": "execute_result"
    }
   ],
   "source": [
    "arr[2]"
   ]
  },
  {
   "cell_type": "code",
   "execution_count": 10,
   "id": "6591d3c3-a918-4f7a-81e7-65ec3ad38e7f",
   "metadata": {},
   "outputs": [
    {
     "data": {
      "text/plain": [
       "np.int64(32)"
      ]
     },
     "execution_count": 10,
     "metadata": {},
     "output_type": "execute_result"
    }
   ],
   "source": [
    "arr[2][3]"
   ]
  },
  {
   "cell_type": "code",
   "execution_count": 11,
   "id": "8428cb5c-0a99-4ad3-8ad1-000aba052f43",
   "metadata": {},
   "outputs": [
    {
     "data": {
      "text/plain": [
       "array([-3, -5, 32])"
      ]
     },
     "execution_count": 11,
     "metadata": {},
     "output_type": "execute_result"
    }
   ],
   "source": [
    "arr[2,1:4]"
   ]
  },
  {
   "cell_type": "code",
   "execution_count": 12,
   "id": "499ebf4c-5993-45bc-8238-8b9538d860a2",
   "metadata": {},
   "outputs": [
    {
     "data": {
      "text/plain": [
       "array([[80, 16, 45],\n",
       "       [90, -6, -3],\n",
       "       [-3, -5, 32],\n",
       "       [12, -9, -6]])"
      ]
     },
     "execution_count": 12,
     "metadata": {},
     "output_type": "execute_result"
    }
   ],
   "source": [
    "arr[:,1:4]\n"
   ]
  },
  {
   "cell_type": "markdown",
   "id": "2dc00e91-462b-4700-b63f-20f3afe4d582",
   "metadata": {},
   "source": [
    "# Stacking"
   ]
  },
  {
   "cell_type": "code",
   "execution_count": 14,
   "id": "33526263-1f57-462e-906a-7dfe3c8a0acb",
   "metadata": {},
   "outputs": [
    {
     "data": {
      "text/plain": [
       "array([['1', 'Rohan'],\n",
       "       ['2', 'Pranjal'],\n",
       "       ['3', 'Rohit']], dtype='<U21')"
      ]
     },
     "execution_count": 14,
     "metadata": {},
     "output_type": "execute_result"
    }
   ],
   "source": [
    "student_info = np.array([\n",
    "    [1,\"Rohan\"],\n",
    "    [2,\"Pranjal\"],\n",
    "    [3,\"Rohit\"],\n",
    "])\n",
    "student_info"
   ]
  },
  {
   "cell_type": "code",
   "execution_count": 15,
   "id": "b709fdce-a806-403a-8b30-369b40c37d68",
   "metadata": {},
   "outputs": [
    {
     "data": {
      "text/plain": [
       "array([['1', 'C++'],\n",
       "       ['2', 'JAVA'],\n",
       "       ['3', 'C++']], dtype='<U21')"
      ]
     },
     "execution_count": 15,
     "metadata": {},
     "output_type": "execute_result"
    }
   ],
   "source": [
    "course_info = np.array([\n",
    "    [1,\"C++\"],\n",
    "    [2,\"JAVA\"],\n",
    "    [3,\"C++\"],\n",
    "])\n",
    "course_info"
   ]
  },
  {
   "cell_type": "code",
   "execution_count": 16,
   "id": "46918b13-f703-46da-9294-76161ce8d578",
   "metadata": {},
   "outputs": [
    {
     "data": {
      "text/plain": [
       "array([['1', 'C++', '1', 'C++'],\n",
       "       ['2', 'JAVA', '2', 'JAVA'],\n",
       "       ['3', 'C++', '3', 'C++']], dtype='<U21')"
      ]
     },
     "execution_count": 16,
     "metadata": {},
     "output_type": "execute_result"
    }
   ],
   "source": [
    "np.hstack((course_info,course_info))"
   ]
  }
 ],
 "metadata": {
  "kernelspec": {
   "display_name": "Python 3 (ipykernel)",
   "language": "python",
   "name": "python3"
  },
  "language_info": {
   "codemirror_mode": {
    "name": "ipython",
    "version": 3
   },
   "file_extension": ".py",
   "mimetype": "text/x-python",
   "name": "python",
   "nbconvert_exporter": "python",
   "pygments_lexer": "ipython3",
   "version": "3.13.1"
  }
 },
 "nbformat": 4,
 "nbformat_minor": 5
}
