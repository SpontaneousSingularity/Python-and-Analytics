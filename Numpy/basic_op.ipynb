{
 "cells": [
  {
   "cell_type": "code",
   "execution_count": 1,
   "id": "1c0ea729-0633-4021-84e3-d915a9f0b2a2",
   "metadata": {},
   "outputs": [],
   "source": [
    "import numpy as np"
   ]
  },
  {
   "cell_type": "code",
   "execution_count": 2,
   "id": "6d1dd9c8-8c8d-4e46-9425-57d26468e53e",
   "metadata": {},
   "outputs": [
    {
     "name": "stdout",
     "output_type": "stream",
     "text": [
      "[2 5 8]\n",
      "Dimension:1\n",
      "Bytes:24\n",
      "Size:3\n",
      "Data Type:int64\n",
      "int64\n"
     ]
    }
   ],
   "source": [
    "q1_rev = np.array([2,5,8])\n",
    "print(q1_rev)\n",
    "print(f\"Dimension:{q1_rev.ndim}\")\n",
    "print(f\"Bytes:{q1_rev.nbytes}\")\n",
    "print(f\"Size:{q1_rev.size}\")\n",
    "print(f\"Data Type:{q1_rev.dtype}\")\n",
    "print(f\"{q1_rev.dtype}\")"
   ]
  },
  {
   "cell_type": "code",
   "execution_count": 3,
   "id": "88a6f10f-c58e-45be-9d00-1fad634b24ef",
   "metadata": {},
   "outputs": [
    {
     "name": "stdout",
     "output_type": "stream",
     "text": [
      "[[ 2  5  8]\n",
      " [ 2  1 10]\n",
      " [ 9 15 20]\n",
      " [10 11 12]]\n",
      "2\n",
      "96\n",
      "12\n",
      "int64\n",
      "8\n"
     ]
    }
   ],
   "source": [
    "revenue = np.array([[2,5,8],[2,1,10],[9,15,20],[10,11,12]])\n",
    "\n",
    "print(revenue)\n",
    "print(revenue.ndim)\n",
    "print(revenue.nbytes)\n",
    "print(revenue.size)\n",
    "print(revenue.dtype)\n",
    "print(revenue.itemsize)"
   ]
  },
  {
   "cell_type": "code",
   "execution_count": 4,
   "id": "6f3fb39b-0df7-4553-b823-bb2e92566f74",
   "metadata": {},
   "outputs": [
    {
     "name": "stdout",
     "output_type": "stream",
     "text": [
      "(4, 3)\n"
     ]
    }
   ],
   "source": [
    "print(revenue.shape)\n"
   ]
  },
  {
   "cell_type": "code",
   "execution_count": 5,
   "id": "16face72-1064-40ca-95e9-b18a8b8497d4",
   "metadata": {},
   "outputs": [
    {
     "data": {
      "text/plain": [
       "array([[ 2,  5,  8],\n",
       "       [ 1,  2, 10],\n",
       "       [ 9, 15, 20],\n",
       "       [10, 11, 12]])"
      ]
     },
     "execution_count": 5,
     "metadata": {},
     "output_type": "execute_result"
    }
   ],
   "source": [
    "np.sort(revenue)\n"
   ]
  },
  {
   "cell_type": "code",
   "execution_count": 6,
   "id": "ffa605d2-1aeb-4ad0-870a-c6be21ce86a4",
   "metadata": {},
   "outputs": [
    {
     "data": {
      "text/plain": [
       "array([[ 2,  5,  8],\n",
       "       [ 2,  1, 10],\n",
       "       [ 9, 15, 20],\n",
       "       [10, 11, 12]])"
      ]
     },
     "execution_count": 6,
     "metadata": {},
     "output_type": "execute_result"
    }
   ],
   "source": [
    "revenue\n"
   ]
  },
  {
   "cell_type": "code",
   "execution_count": 7,
   "id": "4ebcced2-b737-4aed-8bdf-4cc798d4bd09",
   "metadata": {},
   "outputs": [
    {
     "data": {
      "text/plain": [
       "array([[ 2,  1,  8],\n",
       "       [ 2,  5, 10],\n",
       "       [ 9, 11, 12],\n",
       "       [10, 15, 20]])"
      ]
     },
     "execution_count": 7,
     "metadata": {},
     "output_type": "execute_result"
    }
   ],
   "source": [
    "np.sort(revenue, axis=0)\n"
   ]
  },
  {
   "cell_type": "code",
   "execution_count": 8,
   "id": "900927cf-95d4-493d-8715-0ed2c2a63ccb",
   "metadata": {},
   "outputs": [
    {
     "data": {
      "text/plain": [
       "array([[ 2,  5,  8],\n",
       "       [ 1,  2, 10],\n",
       "       [ 9, 15, 20],\n",
       "       [10, 11, 12]])"
      ]
     },
     "execution_count": 8,
     "metadata": {},
     "output_type": "execute_result"
    }
   ],
   "source": [
    "np.sort(revenue, axis=1)\n"
   ]
  },
  {
   "cell_type": "code",
   "execution_count": 9,
   "id": "609b21d0-b500-4768-96c8-a99eb6d4d66a",
   "metadata": {},
   "outputs": [
    {
     "data": {
      "text/plain": [
       "array([ 1,  2,  2,  5,  8,  9, 10, 10, 11, 12, 15, 20])"
      ]
     },
     "execution_count": 9,
     "metadata": {},
     "output_type": "execute_result"
    }
   ],
   "source": [
    "np.sort(revenue, axis=None)"
   ]
  },
  {
   "cell_type": "code",
   "execution_count": 10,
   "id": "1a13d7d6-387a-4339-aff1-851f948726fe",
   "metadata": {},
   "outputs": [
    {
     "data": {
      "text/plain": [
       "array([[0, 0, 0, 0],\n",
       "       [0, 0, 0, 0],\n",
       "       [0, 0, 0, 0]], dtype=int16)"
      ]
     },
     "execution_count": 10,
     "metadata": {},
     "output_type": "execute_result"
    }
   ],
   "source": [
    "zero_arr = np.zeros((3,4),'int16')\n",
    "zero_arr"
   ]
  },
  {
   "cell_type": "code",
   "execution_count": 11,
   "id": "64b8f052-fd56-4e53-b90b-2150c84db5e6",
   "metadata": {},
   "outputs": [
    {
     "data": {
      "text/plain": [
       "dtype('int16')"
      ]
     },
     "execution_count": 11,
     "metadata": {},
     "output_type": "execute_result"
    }
   ],
   "source": [
    "zero_arr.dtype"
   ]
  },
  {
   "cell_type": "code",
   "execution_count": 12,
   "id": "dfd3acdb-7b51-49c3-a0b7-fe3a4bd514ff",
   "metadata": {},
   "outputs": [
    {
     "data": {
      "text/plain": [
       "array([[1, 1, 1, 1, 1],\n",
       "       [1, 1, 1, 1, 1],\n",
       "       [1, 1, 1, 1, 1],\n",
       "       [1, 1, 1, 1, 1]], dtype=int16)"
      ]
     },
     "execution_count": 12,
     "metadata": {},
     "output_type": "execute_result"
    }
   ],
   "source": [
    "one_arr = np.ones((4,5),'int16')\n",
    "one_arr"
   ]
  },
  {
   "cell_type": "code",
   "execution_count": 13,
   "id": "5a218db4-773d-45a7-9d75-63ba1cb2c39f",
   "metadata": {},
   "outputs": [
    {
     "data": {
      "text/plain": [
       "array([50, 47, 44, 41, 38, 35, 32, 29, 26, 23, 20, 17, 14, 11,  8,  5,  2])"
      ]
     },
     "execution_count": 13,
     "metadata": {},
     "output_type": "execute_result"
    }
   ],
   "source": [
    "np.arange(50,0,-3)"
   ]
  },
  {
   "cell_type": "code",
   "execution_count": 14,
   "id": "ed5ecfaa-a3bb-47dc-93c5-ffccb220df35",
   "metadata": {},
   "outputs": [
    {
     "data": {
      "text/plain": [
       "array([0.  , 0.25, 0.5 , 0.75, 1.  ])"
      ]
     },
     "execution_count": 14,
     "metadata": {},
     "output_type": "execute_result"
    }
   ],
   "source": [
    "np.linspace(0,1,5)"
   ]
  },
  {
   "cell_type": "code",
   "execution_count": 15,
   "id": "9948d96a-c927-44d7-849b-0ba3df985ab8",
   "metadata": {},
   "outputs": [
    {
     "data": {
      "text/plain": [
       "array([[ 2,  5,  8],\n",
       "       [ 2,  1, 10],\n",
       "       [ 9, 15, 20],\n",
       "       [10, 11, 12]])"
      ]
     },
     "execution_count": 15,
     "metadata": {},
     "output_type": "execute_result"
    }
   ],
   "source": [
    "revenue"
   ]
  },
  {
   "cell_type": "code",
   "execution_count": 16,
   "id": "b78cb806-67ad-400c-850a-33ec9132a059",
   "metadata": {},
   "outputs": [
    {
     "data": {
      "text/plain": [
       "array([ 2,  5,  8,  2,  1, 10,  9, 15, 20, 10, 11, 12])"
      ]
     },
     "execution_count": 16,
     "metadata": {},
     "output_type": "execute_result"
    }
   ],
   "source": [
    "revenue.flatten()"
   ]
  },
  {
   "cell_type": "code",
   "execution_count": 17,
   "id": "8fd3650f-c16e-4584-abed-4f90b366a6ad",
   "metadata": {},
   "outputs": [
    {
     "data": {
      "text/plain": [
       "array([[ 2,  5,  8],\n",
       "       [ 2,  1, 10],\n",
       "       [ 9, 15, 20],\n",
       "       [10, 11, 12]])"
      ]
     },
     "execution_count": 17,
     "metadata": {},
     "output_type": "execute_result"
    }
   ],
   "source": [
    "revenue"
   ]
  },
  {
   "cell_type": "code",
   "execution_count": 18,
   "id": "556ae600-855b-4684-8f67-279e7a89fa3f",
   "metadata": {},
   "outputs": [
    {
     "data": {
      "text/plain": [
       "array([[ 2,  5],\n",
       "       [ 8,  2],\n",
       "       [ 1, 10],\n",
       "       [ 9, 15],\n",
       "       [20, 10],\n",
       "       [11, 12]])"
      ]
     },
     "execution_count": 18,
     "metadata": {},
     "output_type": "execute_result"
    }
   ],
   "source": [
    "revenue.reshape((6,2))"
   ]
  },
  {
   "cell_type": "raw",
   "id": "b9f288d7-1b16-4590-bf25-53436be76d9c",
   "metadata": {},
   "source": [
    "revenue.min()\n",
    "revenue.max()"
   ]
  },
  {
   "cell_type": "code",
   "execution_count": 19,
   "id": "a59c4384-b4f4-480c-afc5-80f6ec40aefc",
   "metadata": {},
   "outputs": [
    {
     "data": {
      "text/plain": [
       "array([23, 32, 50])"
      ]
     },
     "execution_count": 19,
     "metadata": {},
     "output_type": "execute_result"
    }
   ],
   "source": [
    "revenue.sum(axis=0)"
   ]
  },
  {
   "cell_type": "code",
   "execution_count": 20,
   "id": "62d767d2-8ce4-4e52-8975-f993dd07aed7",
   "metadata": {},
   "outputs": [
    {
     "data": {
      "text/plain": [
       "array([15, 13, 44, 33])"
      ]
     },
     "execution_count": 20,
     "metadata": {},
     "output_type": "execute_result"
    }
   ],
   "source": [
    "revenue.sum(axis=1)"
   ]
  },
  {
   "cell_type": "markdown",
   "id": "50429786-2c9d-48aa-b6fe-ea16903dd7e4",
   "metadata": {},
   "source": [
    "### looping over numpy array"
   ]
  },
  {
   "cell_type": "code",
   "execution_count": 21,
   "id": "c6490edb-b47a-480e-9502-fc7b4ba0c6fa",
   "metadata": {},
   "outputs": [
    {
     "name": "stdout",
     "output_type": "stream",
     "text": [
      "[2 5 8]\n",
      "[ 2  1 10]\n",
      "[ 9 15 20]\n",
      "[10 11 12]\n"
     ]
    }
   ],
   "source": [
    "for row in revenue:\n",
    "    print(row)"
   ]
  },
  {
   "cell_type": "code",
   "execution_count": 22,
   "id": "6db5f0a4-aee3-4b95-a4b6-8213014af8a9",
   "metadata": {},
   "outputs": [
    {
     "name": "stdout",
     "output_type": "stream",
     "text": [
      "product revenue 2mln$\n",
      "product revenue 5mln$\n",
      "product revenue 8mln$\n",
      "product revenue 2mln$\n",
      "product revenue 1mln$\n",
      "product revenue 10mln$\n",
      "product revenue 9mln$\n",
      "product revenue 15mln$\n",
      "product revenue 20mln$\n",
      "product revenue 10mln$\n",
      "product revenue 11mln$\n",
      "product revenue 12mln$\n"
     ]
    }
   ],
   "source": [
    "for row in revenue:\n",
    "    for element in row:\n",
    "        print(f\"product revenue {element}mln$\")"
   ]
  },
  {
   "cell_type": "code",
   "execution_count": null,
   "id": "c69b6e21-fcbc-4a07-be5d-486a9ad3de2b",
   "metadata": {},
   "outputs": [],
   "source": []
  }
 ],
 "metadata": {
  "kernelspec": {
   "display_name": "Python 3 (ipykernel)",
   "language": "python",
   "name": "python3"
  },
  "language_info": {
   "codemirror_mode": {
    "name": "ipython",
    "version": 3
   },
   "file_extension": ".py",
   "mimetype": "text/x-python",
   "name": "python",
   "nbconvert_exporter": "python",
   "pygments_lexer": "ipython3",
   "version": "3.13.1"
  }
 },
 "nbformat": 4,
 "nbformat_minor": 5
}
