{
 "cells": [
  {
   "cell_type": "code",
   "execution_count": null,
   "id": "8827327a-a70b-46aa-8610-ea4b8045cf67",
   "metadata": {},
   "outputs": [],
   "source": []
  }
 ],
 "metadata": {
  "kernelspec": {
   "display_name": "",
   "name": ""
  },
  "language_info": {
   "name": ""
  }
 },
 "nbformat": 4,
 "nbformat_minor": 5
}
