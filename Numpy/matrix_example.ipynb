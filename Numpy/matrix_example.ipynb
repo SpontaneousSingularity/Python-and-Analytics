{
 "cells": [
  {
   "cell_type": "markdown",
   "id": "dad7d21f-01bb-4634-959a-8c255de13a49",
   "metadata": {},
   "source": [
    "# Operations on matrices"
   ]
  },
  {
   "cell_type": "markdown",
   "id": "9b920b0e-0832-4972-b67a-c4954e129a06",
   "metadata": {},
   "source": [
    "<img src=\"./matrix-numpy.jpg\" alt=\"Matrix Example Image\" style=\"width:75%\">"
   ]
  },
  {
   "cell_type": "code",
   "execution_count": 1,
   "id": "1697ecd9-2aaf-47eb-b5d1-951f28cc3ac6",
   "metadata": {},
   "outputs": [],
   "source": [
    "import numpy as np"
   ]
  },
  {
   "cell_type": "code",
   "execution_count": 2,
   "id": "aaf29cdb-d351-4899-919e-790902cfa949",
   "metadata": {},
   "outputs": [
    {
     "data": {
      "text/plain": [
       "array([[200, 250, 190],\n",
       "       [100, 180, 145],\n",
       "       [210, 350, 280]])"
      ]
     },
     "execution_count": 2,
     "metadata": {},
     "output_type": "execute_result"
    }
   ],
   "source": [
    "q1 = np.array([[200,250,190],[100,180,145],[210,350,280]])\n",
    "q1"
   ]
  },
  {
   "cell_type": "code",
   "execution_count": 3,
   "id": "60b73c37-a116-47ab-b9b2-3291db70accd",
   "metadata": {},
   "outputs": [
    {
     "data": {
      "text/plain": [
       "array([[250, 180, 195],\n",
       "       [ 90, 185, 130],\n",
       "       [235, 200, 215]])"
      ]
     },
     "execution_count": 3,
     "metadata": {},
     "output_type": "execute_result"
    }
   ],
   "source": [
    "q2 = np.array([[250,180,195],[90,185,130],[235,200,215]])\n",
    "q2"
   ]
  },
  {
   "cell_type": "code",
   "execution_count": 4,
   "id": "becfed10-34ab-4059-b4de-807c56a99e5d",
   "metadata": {},
   "outputs": [
    {
     "name": "stdout",
     "output_type": "stream",
     "text": [
      "Sum of units sold in each region: \n",
      "[[450 430 385]\n",
      " [190 365 275]\n",
      " [445 550 495]]\n"
     ]
    }
   ],
   "source": [
    "# Find sum of product sold in both quarter\n",
    "\n",
    "print(f\"Sum of units sold in each region: \\n{q1+q2}\")"
   ]
  },
  {
   "cell_type": "code",
   "execution_count": 5,
   "id": "1dcb388e-bc62-4822-8590-19164a39630c",
   "metadata": {},
   "outputs": [
    {
     "name": "stdout",
     "output_type": "stream",
     "text": [
      "unit growth in sale of product from q1 to q2: \n",
      "[[  50  -70    5]\n",
      " [ -10    5  -15]\n",
      " [  25 -150  -65]]\n"
     ]
    }
   ],
   "source": [
    "# Find sales unit groth from q1 to q2\n",
    "print(f\"unit growth in sale of product from q1 to q2: \\n{q2-q1}\")"
   ]
  },
  {
   "cell_type": "code",
   "execution_count": 6,
   "id": "d21b1e8c-5f4f-4495-b1e4-1115dcf3d174",
   "metadata": {},
   "outputs": [
    {
     "name": "stdout",
     "output_type": "stream",
     "text": [
      "Percentage growth % in sale of product from q1 to q2: \n",
      "[[ 25.         -28.           2.63157895]\n",
      " [-10.           2.77777778 -10.34482759]\n",
      " [ 11.9047619  -42.85714286 -23.21428571]]\n"
     ]
    }
   ],
   "source": [
    "# Find percentage growth in sales unit from q1 to q2\n",
    "print(f\"Percentage growth % in sale of product from q1 to q2: \\n{((q2-q1)/q1)*100}\")"
   ]
  },
  {
   "cell_type": "markdown",
   "id": "58aecff9-1690-4bc5-bc28-21f63d79c489",
   "metadata": {},
   "source": [
    "<img src=\"./prices.jpeg\" alt=\"Product Prices\" style=\"width:75%\">"
   ]
  },
  {
   "cell_type": "code",
   "execution_count": 7,
   "id": "738cbece-9624-48e9-9d14-32cf93144fe5",
   "metadata": {},
   "outputs": [
    {
     "data": {
      "text/plain": [
       "array([[2.  , 1.13, 1.15],\n",
       "       [2.5 , 1.8 , 1.95],\n",
       "       [3.  , 2.25, 2.2 ]])"
      ]
     },
     "execution_count": 7,
     "metadata": {},
     "output_type": "execute_result"
    }
   ],
   "source": [
    "prices = np.array([\n",
    "    [2,1.13,1.15],\n",
    "    [2.5,1.8,1.95],\n",
    "    [3,2.25,2.2]])\n",
    "\n",
    "prices"
   ]
  },
  {
   "cell_type": "code",
   "execution_count": 8,
   "id": "5a0b9404-c182-46f7-8b0f-c96b64d51601",
   "metadata": {},
   "outputs": [
    {
     "data": {
      "text/plain": [
       "array([[400.  , 282.5 , 218.5 ],\n",
       "       [250.  , 324.  , 282.75],\n",
       "       [630.  , 787.5 , 616.  ]])"
      ]
     },
     "execution_count": 8,
     "metadata": {},
     "output_type": "execute_result"
    }
   ],
   "source": [
    "q1_revenue = q1 * prices\n",
    "q1_revenue"
   ]
  },
  {
   "cell_type": "markdown",
   "id": "3a67c034-552b-4659-bd3f-2db60c1f1c1b",
   "metadata": {},
   "source": [
    "## COGS (Cost of Goods Sold) -> Per piece"
   ]
  },
  {
   "cell_type": "code",
   "execution_count": 9,
   "id": "12ff0fb1-48b0-43c1-9a0d-cbd62c9eb2b2",
   "metadata": {},
   "outputs": [
    {
     "data": {
      "text/plain": [
       "array([[0.9 , 1.12, 1.  ],\n",
       "       [1.13, 1.5 , 1.25],\n",
       "       [1.8 , 1.6 , 1.7 ]])"
      ]
     },
     "execution_count": 9,
     "metadata": {},
     "output_type": "execute_result"
    }
   ],
   "source": [
    "cogs = np.array([\n",
    "    [0.9,1.12,1],\n",
    "    [1.13,1.5,1.25],\n",
    "    [1.8,1.6,1.7]\n",
    "])\n",
    "cogs"
   ]
  },
  {
   "cell_type": "code",
   "execution_count": 13,
   "id": "5e665d44-fd68-4dc4-b8f3-05bf599b4abc",
   "metadata": {},
   "outputs": [
    {
     "data": {
      "text/plain": [
       "array([[180.  , 280.  , 190.  ],\n",
       "       [113.  , 270.  , 181.25],\n",
       "       [378.  , 560.  , 476.  ]])"
      ]
     },
     "execution_count": 13,
     "metadata": {},
     "output_type": "execute_result"
    }
   ],
   "source": [
    "q1_cogs = q1*cogs\n",
    "q1_cogs"
   ]
  },
  {
   "cell_type": "markdown",
   "id": "c3b0da84-11e5-4c14-a776-01405b2fcd97",
   "metadata": {},
   "source": [
    "## Calculate Gross Profit"
   ]
  },
  {
   "cell_type": "code",
   "execution_count": 14,
   "id": "4e799544-79ac-4b54-bd65-e7afc4e486fa",
   "metadata": {},
   "outputs": [
    {
     "data": {
      "text/plain": [
       "array([[220. ,   2.5,  28.5],\n",
       "       [137. ,  54. , 101.5],\n",
       "       [252. , 227.5, 140. ]])"
      ]
     },
     "execution_count": 14,
     "metadata": {},
     "output_type": "execute_result"
    }
   ],
   "source": [
    "gross_profit = q1_revenue - q1_cogs\n",
    "gross_profit"
   ]
  },
  {
   "cell_type": "markdown",
   "id": "77da7703-b350-46cb-b5c4-6fc9f0b69f86",
   "metadata": {},
   "source": [
    "## Product Example"
   ]
  },
  {
   "cell_type": "code",
   "execution_count": 15,
   "id": "d0bf9138-e895-4284-a869-750d21cfc271",
   "metadata": {},
   "outputs": [
    {
     "data": {
      "text/plain": [
       "array([[3500,    3],\n",
       "       [2800,    2],\n",
       "       [2000,    1],\n",
       "       [1200,    1]])"
      ]
     },
     "execution_count": 15,
     "metadata": {},
     "output_type": "execute_result"
    }
   ],
   "source": [
    "#builder\n",
    "# 1 column means sqft, 2 column means bhk \n",
    "features = np.array(\n",
    "    [\n",
    "        [3500,3],\n",
    "        [2800,2],\n",
    "        [2000,1],\n",
    "        [1200,1]\n",
    "    ]\n",
    ")\n",
    "features"
   ]
  },
  {
   "cell_type": "code",
   "execution_count": 11,
   "id": "2ca0e113-88e4-4e55-872a-3bf4c713cff9",
   "metadata": {},
   "outputs": [
    {
     "data": {
      "text/plain": [
       "array([[2.  , 1.13, 1.15],\n",
       "       [2.5 , 1.8 , 1.95],\n",
       "       [3.  , 2.25, 2.2 ]])"
      ]
     },
     "execution_count": 11,
     "metadata": {},
     "output_type": "execute_result"
    }
   ],
   "source": [
    "prices"
   ]
  },
  {
   "cell_type": "code",
   "execution_count": 16,
   "id": "15460f5a-f2bf-4e06-abd9-ceb4cff73703",
   "metadata": {},
   "outputs": [
    {
     "data": {
      "text/plain": [
       "array([  150, 50000])"
      ]
     },
     "execution_count": 16,
     "metadata": {},
     "output_type": "execute_result"
    }
   ],
   "source": [
    "# 1 column means per sqft price, 2 column means additional price for each bedroom\n",
    "prices = np.array([150,50000])\n",
    "prices"
   ]
  },
  {
   "cell_type": "code",
   "execution_count": 17,
   "id": "29322e76-be83-4baa-9522-feba347c3f29",
   "metadata": {},
   "outputs": [
    {
     "name": "stdout",
     "output_type": "stream",
     "text": [
      "Price of flat for 3bhk: = 675000\n"
     ]
    }
   ],
   "source": [
    "price_3bhk = 150*3500+3*50000\n",
    "print(\"Price of flat for 3bhk: =\",price_3bhk)"
   ]
  },
  {
   "cell_type": "code",
   "execution_count": 18,
   "id": "bba58d81-9a81-485a-902e-214b0a9ae750",
   "metadata": {},
   "outputs": [
    {
     "data": {
      "text/plain": [
       "array([675000, 520000, 350000, 230000])"
      ]
     },
     "execution_count": 18,
     "metadata": {},
     "output_type": "execute_result"
    }
   ],
   "source": [
    "final_prices = np.dot(features,prices)\n",
    "final_prices"
   ]
  }
 ],
 "metadata": {
  "kernelspec": {
   "display_name": "Python 3 (ipykernel)",
   "language": "python",
   "name": "python3"
  },
  "language_info": {
   "codemirror_mode": {
    "name": "ipython",
    "version": 3
   },
   "file_extension": ".py",
   "mimetype": "text/x-python",
   "name": "python",
   "nbconvert_exporter": "python",
   "pygments_lexer": "ipython3",
   "version": "3.13.1"
  }
 },
 "nbformat": 4,
 "nbformat_minor": 5
}
