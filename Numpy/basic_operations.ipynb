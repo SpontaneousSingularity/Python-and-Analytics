{
 "cells": [
  {
   "cell_type": "code",
   "execution_count": null,
   "id": "7bdb4ab3-bb90-43ca-84b0-ae620d975efc",
   "metadata": {},
   "outputs": [],
   "source": []
  }
 ],
 "metadata": {
  "kernelspec": {
   "display_name": "",
   "name": ""
  },
  "language_info": {
   "name": ""
  }
 },
 "nbformat": 4,
 "nbformat_minor": 5
}
