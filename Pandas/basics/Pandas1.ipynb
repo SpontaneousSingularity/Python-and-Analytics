{
 "cells": [
  {
   "cell_type": "markdown",
   "id": "b84e3774-0500-4928-8b54-6cab486eeaed",
   "metadata": {},
   "source": [
    "<h1 style = \" color:green; text-align:center\"><b><u>Pandas</u></b></h1>"
   ]
  },
  {
   "cell_type": "markdown",
   "id": "d47b5d39-6818-4a1b-af68-ada04105988d",
   "metadata": {},
   "source": [
    "<br>"
   ]
  },
  {
   "cell_type": "markdown",
   "id": "d16d8e2b-7d08-4861-a47c-59474611275b",
   "metadata": {},
   "source": [
    "### Reading a CSV file without pandas"
   ]
  },
  {
   "cell_type": "code",
   "execution_count": 1,
   "id": "afaad0cf-aa0a-4914-aa1e-5ca8a9647ee0",
   "metadata": {},
   "outputs": [
    {
     "name": "stdout",
     "output_type": "stream",
     "text": [
      "title,industry,release_year,imdb_rating,studio,budget,revenue,unit,currency,language\n",
      "\n"
     ]
    }
   ],
   "source": [
    "with open(\"movies.csv\",\"r\") as f:\n",
    "    print(f.readline())"
   ]
  },
  {
   "cell_type": "code",
   "execution_count": null,
   "id": "2916b537-3c53-4311-9cad-81aac573dc24",
   "metadata": {},
   "outputs": [],
   "source": [
    "import pandas as pd"
   ]
  },
  {
   "cell_type": "code",
   "execution_count": null,
   "id": "4d3451b3-687f-417c-8a1d-3aaf65d28782",
   "metadata": {},
   "outputs": [],
   "source": [
    "df = pd.read_csv(\"movies.csv\")\n",
    "df.head()"
   ]
  },
  {
   "cell_type": "code",
   "execution_count": null,
   "id": "37fbcc79-051c-4900-948a-c12f170f16fa",
   "metadata": {},
   "outputs": [],
   "source": [
    "df.tail()"
   ]
  },
  {
   "cell_type": "code",
   "execution_count": null,
   "id": "97bd634b-759e-428c-9982-82bbb7e51a41",
   "metadata": {},
   "outputs": [],
   "source": [
    "df.head(3)\n"
   ]
  },
  {
   "cell_type": "code",
   "execution_count": null,
   "id": "17ec4224-4f86-4119-aa94-527229cc3021",
   "metadata": {},
   "outputs": [],
   "source": [
    "df.sample(5)\n"
   ]
  },
  {
   "cell_type": "code",
   "execution_count": null,
   "id": "cefd5f5e-c980-4670-b381-f7a2ee30db94",
   "metadata": {},
   "outputs": [],
   "source": [
    "df.imdb_rating.head()\n"
   ]
  },
  {
   "cell_type": "code",
   "execution_count": null,
   "id": "6852dcf8-fb64-490c-a618-c882bf4108e2",
   "metadata": {},
   "outputs": [],
   "source": [
    "df[\"imdb_rating\"].head()\n"
   ]
  },
  {
   "cell_type": "code",
   "execution_count": null,
   "id": "810a77f8-ea89-4511-920d-b3dd285227a0",
   "metadata": {},
   "outputs": [],
   "source": [
    "df[5:10]\n"
   ]
  },
  {
   "cell_type": "code",
   "execution_count": null,
   "id": "e4d132e4-26b1-439b-a167-50afacaa0346",
   "metadata": {},
   "outputs": [],
   "source": [
    "dir(df.imdb_rating) # this is also a dataframe object\n"
   ]
  },
  {
   "cell_type": "code",
   "execution_count": null,
   "id": "f0139aeb-a721-4627-a9d2-8601aa437802",
   "metadata": {},
   "outputs": [],
   "source": [
    "df.shape\n"
   ]
  },
  {
   "cell_type": "markdown",
   "id": "b78be28f-6a11-455d-a8bc-a0981100b262",
   "metadata": {},
   "source": [
    "<br>"
   ]
  },
  {
   "cell_type": "markdown",
   "id": "de7ae66d-1266-44ea-8196-7723a01de10d",
   "metadata": {},
   "source": [
    "### Finding Min Max and average rating for all movies."
   ]
  },
  {
   "cell_type": "code",
   "execution_count": null,
   "id": "ccc33ac4-c300-4a0f-8a42-3c8ef086c3b3",
   "metadata": {
    "jupyter": {
     "source_hidden": true
    }
   },
   "outputs": [],
   "source": [
    "print(f\"All Movies Rating Analysis\")\n",
    "print(f\"Max: {df.imdb_rating.max()}\")\n",
    "print(f\"Min: {df.imdb_rating.min()}\")\n",
    "print(f\"Average: {round(df.imdb_rating.mean(),2)}\")"
   ]
  },
  {
   "cell_type": "markdown",
   "id": "2c3e9bdb-e4d5-43ec-956b-7cc8bc8a5894",
   "metadata": {},
   "source": [
    "### Find Max and Min and Average rating for all bollywood movies"
   ]
  },
  {
   "cell_type": "code",
   "execution_count": null,
   "id": "84918202-e93e-42ec-8f04-d253e11527c6",
   "metadata": {},
   "outputs": [],
   "source": [
    "df_bolly = df[df.industry == \"Bollywood\"]\n",
    "df_bolly.head(3)\n"
   ]
  },
  {
   "cell_type": "code",
   "execution_count": null,
   "id": "bb7773bc-b2f5-4e1d-95b4-08ff4260a4e1",
   "metadata": {},
   "outputs": [],
   "source": [
    "print(f\"Bollywood Movies Rating Analysis\")\n",
    "print(f\"Max: {df_bolly.imdb_rating.max()}\")\n",
    "print(f\"Min: {df_bolly.imdb_rating.min()}\")\n",
    "print(f\"Average: {round(df_bolly.imdb_rating.mean(),2)}\")\n"
   ]
  },
  {
   "cell_type": "markdown",
   "id": "83962f04-5989-4093-a617-7ed323536a5d",
   "metadata": {},
   "source": [
    "### Find min max and average for Hollywood"
   ]
  },
  {
   "cell_type": "code",
   "execution_count": null,
   "id": "b8bf506a-1dc6-411c-a3e3-9f81c51235e2",
   "metadata": {},
   "outputs": [],
   "source": [
    "df_holly = df[df.industry == \"Hollywood\"]"
   ]
  },
  {
   "cell_type": "code",
   "execution_count": null,
   "id": "d7845e00-ca43-4aec-a7db-0246e30753f8",
   "metadata": {},
   "outputs": [],
   "source": [
    "df_holly.head(3)"
   ]
  },
  {
   "cell_type": "code",
   "execution_count": null,
   "id": "1d9bd56e-d802-4c17-b2fb-6ba233df97a0",
   "metadata": {},
   "outputs": [],
   "source": [
    "print(\"Hollywood Movie Rating Analysis\")\n",
    "print(f\"Max Rating: {df_holly.imdb_rating.max()}\")\n",
    "print(f\"Min Rating: {df_holly.imdb_rating.min()}\")\n",
    "print(f\"Average Rating: {round(df_holly.imdb_rating.mean(),3)}\")"
   ]
  },
  {
   "cell_type": "markdown",
   "id": "86176a0e-a2d1-4e90-abf7-8940cebcbf4c",
   "metadata": {},
   "source": [
    "#### Bollywood Movie with max rating"
   ]
  },
  {
   "cell_type": "code",
   "execution_count": null,
   "id": "e980b3ac-1a33-4f02-be24-1070026fa1af",
   "metadata": {},
   "outputs": [],
   "source": [
    "max_bolly_info = df_bolly[df_bolly['imdb_rating'] == df_bolly.imdb_rating.max()]\n",
    "print(f\"Bollywood Movies with max rating is: \\n{max_bolly_info.title}\")"
   ]
  },
  {
   "cell_type": "code",
   "execution_count": null,
   "id": "799d6f6b-cba9-4036-bf0c-21810555efd4",
   "metadata": {},
   "outputs": [],
   "source": []
  }
 ],
 "metadata": {
  "kernelspec": {
   "display_name": "Python 3 (ipykernel)",
   "language": "python",
   "name": "python3"
  },
  "language_info": {
   "codemirror_mode": {
    "name": "ipython",
    "version": 3
   },
   "file_extension": ".py",
   "mimetype": "text/x-python",
   "name": "python",
   "nbconvert_exporter": "python",
   "pygments_lexer": "ipython3",
   "version": "3.13.1"
  }
 },
 "nbformat": 4,
 "nbformat_minor": 5
}
